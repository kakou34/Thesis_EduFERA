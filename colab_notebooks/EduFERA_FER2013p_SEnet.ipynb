{
  "nbformat": 4,
  "nbformat_minor": 0,
  "metadata": {
    "colab": {
      "name": "EduFERA_Class_FER2013p_SEnet.ipynb",
      "provenance": [],
      "collapsed_sections": [
        "nt7hG3GT4Fmt",
        "DHdARNxq_YuE",
        "VC-XQHqd_cmR",
        "igI9vf5y_0KD",
        "eqPbYKpj4pph",
        "XhySHjo1Csxd"
      ],
      "toc_visible": true
    },
    "kernelspec": {
      "name": "python3",
      "display_name": "Python 3"
    },
    "language_info": {
      "name": "python"
    },
    "accelerator": "GPU"
  },
  "cells": [
    {
      "cell_type": "markdown",
      "metadata": {
        "id": "nt7hG3GT4Fmt"
      },
      "source": [
        "# Imports"
      ]
    },
    {
      "cell_type": "code",
      "metadata": {
        "id": "hAhImGxR2yhb",
        "colab": {
          "base_uri": "https://localhost:8080/"
        },
        "outputId": "6f628899-1a0c-43c3-9afe-72b4da91e50d"
      },
      "source": [
        "from google.colab import drive\n",
        "drive.mount('/content/drive')"
      ],
      "execution_count": null,
      "outputs": [
        {
          "output_type": "stream",
          "text": [
            "Mounted at /content/drive\n"
          ],
          "name": "stdout"
        }
      ]
    },
    {
      "cell_type": "code",
      "metadata": {
        "colab": {
          "base_uri": "https://localhost:8080/"
        },
        "id": "U-CGBUMSSm5N",
        "outputId": "d86b5589-fbc9-464d-dbf1-946c2423d338"
      },
      "source": [
        "from __future__ import print_function, division\n",
        "import os\n",
        "import torch\n",
        "import pandas as pd\n",
        "import numpy as np\n",
        "import matplotlib.pyplot as plt\n",
        "from torch.utils.data import Dataset, DataLoader\n",
        "from torchvision import transforms, utils, models\n",
        "import torch.optim as optim\n",
        "import torch.nn as nn\n",
        "from torch.optim.lr_scheduler import MultiStepLR\n",
        "from torch.utils.data.sampler import SubsetRandomSampler\n",
        "from torch.utils.tensorboard import SummaryWriter\n",
        "from PIL import Image\n",
        "import time\n",
        "import copy\n",
        "\n",
        "# Ignore warnings\n",
        "import warnings\n",
        "warnings.filterwarnings(\"ignore\")\n",
        "\n",
        "plt.ion()   # interactive mode\n",
        "\n",
        "device = torch.device(\"cuda:0\" if torch.cuda.is_available() else \"cpu\")\n",
        "\n",
        "print(device)"
      ],
      "execution_count": null,
      "outputs": [
        {
          "output_type": "stream",
          "text": [
            "cuda:0\n"
          ],
          "name": "stdout"
        }
      ]
    },
    {
      "cell_type": "markdown",
      "metadata": {
        "id": "DHdARNxq_YuE"
      },
      "source": [
        "# Helper Methods"
      ]
    },
    {
      "cell_type": "markdown",
      "metadata": {
        "id": "VC-XQHqd_cmR"
      },
      "source": [
        "## Show Image"
      ]
    },
    {
      "cell_type": "code",
      "metadata": {
        "id": "DePf3_Yj_gI-"
      },
      "source": [
        "def imshow(inp, title=None):\n",
        "    \"\"\"Imshow for Tensor.\"\"\"\n",
        "    inp = inp.numpy().transpose((1, 2, 0))\n",
        "    mean = np.array([0.485,])\n",
        "    std = np.array([0.229,])\n",
        "    inp = std * inp + mean\n",
        "    inp = np.clip(inp, 0, 1)\n",
        "    plt.imshow(inp)\n",
        "    if title is not None:\n",
        "        plt.title(title)\n",
        "    plt.pause(0.001)  # pause a bit so that plots are updated"
      ],
      "execution_count": null,
      "outputs": []
    },
    {
      "cell_type": "markdown",
      "metadata": {
        "id": "igI9vf5y_0KD"
      },
      "source": [
        "## Train helpers"
      ]
    },
    {
      "cell_type": "code",
      "metadata": {
        "id": "HD2615p7d5ax"
      },
      "source": [
        "class BatchTimer(object):\n",
        "    \"\"\"Batch timing class.\n",
        "    Use this class for tracking training and testing time/rate per batch or per sample.\n",
        "    \n",
        "    Keyword Arguments:\n",
        "        rate {bool} -- Whether to report a rate (batches or samples per second) or a time (seconds\n",
        "            per batch or sample). (default: {True})\n",
        "        per_sample {bool} -- Whether to report times or rates per sample or per batch.\n",
        "            (default: {True})\n",
        "    \"\"\"\n",
        "\n",
        "    def __init__(self, rate=True, per_sample=True):\n",
        "        self.start = time.time()\n",
        "        self.end = None\n",
        "        self.rate = rate\n",
        "        self.per_sample = per_sample\n",
        "\n",
        "    def __call__(self, y_pred, y):\n",
        "        self.end = time.time()\n",
        "        elapsed = self.end - self.start\n",
        "        self.start = self.end\n",
        "        self.end = None\n",
        "\n",
        "        if self.per_sample:\n",
        "            elapsed /= len(y_pred)\n",
        "        if self.rate:\n",
        "            elapsed = 1 / elapsed\n",
        "\n",
        "        return torch.tensor(elapsed)"
      ],
      "execution_count": null,
      "outputs": []
    },
    {
      "cell_type": "code",
      "metadata": {
        "id": "isN6nmhpd4Wv"
      },
      "source": [
        "class Logger(object):\n",
        "\n",
        "    def __init__(self, mode, length, calculate_mean=False):\n",
        "        self.mode = mode\n",
        "        self.length = length\n",
        "        self.calculate_mean = calculate_mean\n",
        "        if self.calculate_mean:\n",
        "            self.fn = lambda x, i: x / (i + 1)\n",
        "        else:\n",
        "            self.fn = lambda x, i: x\n",
        "\n",
        "    def __call__(self, loss, metrics, i):\n",
        "        track_str = '\\r{} | {:5d}/{:<5d}| '.format(self.mode, i + 1, self.length)\n",
        "        loss_str = 'loss: {:9.4f} | '.format(self.fn(loss, i))\n",
        "        metric_str = ' | '.join('{}: {:9.4f}'.format(k, self.fn(v, i)) for k, v in metrics.items())\n",
        "        print(track_str + loss_str + metric_str + '   ', end='')\n",
        "        if i + 1 == self.length:\n",
        "            print('')"
      ],
      "execution_count": null,
      "outputs": []
    },
    {
      "cell_type": "code",
      "metadata": {
        "id": "jIlt8F7LeVcc"
      },
      "source": [
        " def pass_epoch(\n",
        "    model, loss_fn, loader, optimizer=None, scheduler=None,\n",
        "    batch_metrics={'time': BatchTimer()}, show_running=True,\n",
        "    device='cpu', writer=None\n",
        "):   \n",
        "\n",
        "    mode = 'Train' if model.training else 'Valid'\n",
        "    logger = Logger(mode, length=len(loader), calculate_mean=show_running)\n",
        "    loss = 0\n",
        "    metrics = {}\n",
        "\n",
        "\n",
        "    for i_batch, (x, y) in enumerate(loader):\n",
        "        x = x.float().to(device)\n",
        "        y = y.long().to(device)\n",
        "        y_pred = model(x)\n",
        "        loss_batch = loss_fn(y_pred, y)\n",
        "\n",
        "        if model.training:\n",
        "            loss_batch.backward()\n",
        "            optimizer.step()\n",
        "            optimizer.zero_grad()\n",
        "\n",
        "        metrics_batch = {}\n",
        "        for metric_name, metric_fn in batch_metrics.items():\n",
        "            metrics_batch[metric_name] = metric_fn(y_pred, y).detach().cpu()\n",
        "            metrics[metric_name] = metrics.get(metric_name, 0) + metrics_batch[metric_name]\n",
        "            \n",
        "        if writer is not None and model.training:\n",
        "            if writer.iteration % writer.interval == 0:\n",
        "                writer.add_scalars('loss', {mode: loss_batch.detach().cpu()}, writer.iteration)\n",
        "                for metric_name, metric_batch in metrics_batch.items():\n",
        "                    writer.add_scalars(metric_name, {mode: metric_batch}, writer.iteration)\n",
        "            writer.iteration += 1\n",
        "        \n",
        "        loss_batch = loss_batch.detach().cpu()\n",
        "        loss += loss_batch\n",
        "        if show_running:\n",
        "            logger(loss, metrics, i_batch)\n",
        "        else:\n",
        "            logger(loss_batch, metrics_batch, i_batch)\n",
        "    \n",
        "    if model.training and scheduler is not None:\n",
        "        scheduler.step()\n",
        "\n",
        "    loss = loss / (i_batch + 1)\n",
        "    metrics = {k: v / (i_batch + 1) for k, v in metrics.items()}\n",
        "            \n",
        "    if writer is not None and not model.training:\n",
        "        writer.add_scalars('loss', {mode: loss.detach()}, writer.iteration)\n",
        "        for metric_name, metric in metrics.items():\n",
        "            writer.add_scalars(metric_name, {mode: metric})\n",
        "\n",
        "    return loss, metrics"
      ],
      "execution_count": null,
      "outputs": []
    },
    {
      "cell_type": "code",
      "metadata": {
        "id": "0rMIqBo6Iefd"
      },
      "source": [
        "def accuracy(logits, y):\n",
        "    _, preds = torch.max(logits, 1)\n",
        "    return (preds == y).float().mean()"
      ],
      "execution_count": null,
      "outputs": []
    },
    {
      "cell_type": "markdown",
      "metadata": {
        "id": "eqPbYKpj4pph"
      },
      "source": [
        "# Database definition"
      ]
    },
    {
      "cell_type": "code",
      "metadata": {
        "id": "yjJZzMb14toV"
      },
      "source": [
        "class FER2013Dataset(Dataset):\n",
        "    \"\"\"FER2013+ dataset.\"\"\"\n",
        "\n",
        "    def __init__(self, csv_file, transform=None):\n",
        "        \"\"\"\n",
        "        Args:\n",
        "            csv_file (string): Path to the csv file with annotations.\n",
        "            transform (callable, optional): Optional transform to be applied\n",
        "                on a sample.\n",
        "        \"\"\"\n",
        "        self.annotations_csv = pd.read_csv(csv_file)\n",
        "        self.transform = transform\n",
        "\n",
        "    def __len__(self):\n",
        "        return len(self.annotations_csv)\n",
        "\n",
        "    def __getitem__(self, idx):\n",
        "        if torch.is_tensor(idx):\n",
        "            idx = idx.tolist()\n",
        "\n",
        "        pixels = self.annotations_csv.iloc[idx]['pixels'].split()\n",
        "        pixels = np.array(pixels, dtype=np.uint8)\n",
        "        image = Image.fromarray(pixels.reshape(48,48), 'L')\n",
        "        label = self.annotations_csv.iloc[idx]['class']\n",
        "\n",
        "        if self.transform:\n",
        "            image = self.transform(image)\n",
        "        image= image.float()\n",
        "\n",
        "        return image, label\n"
      ],
      "execution_count": null,
      "outputs": []
    },
    {
      "cell_type": "markdown",
      "metadata": {
        "id": "_X_7zq55-vjE"
      },
      "source": [
        "Loading the data"
      ]
    },
    {
      "cell_type": "markdown",
      "metadata": {
        "id": "Up6YKA_s-wrw"
      },
      "source": [
        "1- Data transforms"
      ]
    },
    {
      "cell_type": "code",
      "metadata": {
        "id": "IOXtJizm-_Zp"
      },
      "source": [
        "data_transforms = transforms.Compose([\n",
        "        transforms.Grayscale(3),                              \n",
        "        transforms.Resize(256),\n",
        "        transforms.CenterCrop(224),\n",
        "        transforms.ToTensor(),\n",
        "        transforms.Normalize([0.5, 0.5, 0.5], [0.5, 0.5, 0.5])\n",
        "    ])"
      ],
      "execution_count": null,
      "outputs": []
    },
    {
      "cell_type": "markdown",
      "metadata": {
        "id": "4IMnIxJx_Grw"
      },
      "source": [
        "2- Loading and splitting the data"
      ]
    },
    {
      "cell_type": "code",
      "metadata": {
        "id": "hZtS8TNsH-6A"
      },
      "source": [
        "batch_size = 32\n",
        "fer_train = FER2013Dataset(csv_file='train_b.csv', transform=data_transforms)\n",
        "fer_val = FER2013Dataset(csv_file='valid_b.csv', transform=data_transforms)\n",
        "fer_test = FER2013Dataset(csv_file='test_b.csv', transform=data_transforms)\n",
        "\n",
        "dataset_sizes = {'train': len(fer_train), 'val': len(fer_val), 'test': len(fer_test) }\n",
        "\n",
        "train_loader = torch.utils.data.DataLoader(fer_train, batch_size=batch_size)\n",
        "val_loader = torch.utils.data.DataLoader(fer_val, batch_size=batch_size)\n",
        "test_loader = torch.utils.data.DataLoader(fer_test, batch_size=batch_size)\n",
        "\n",
        "class_names = {0: 'Pleasant-Active',\n",
        "               1: 'Unpleasant-Active',\n",
        "               2: 'Unpleasant-Unactive',\n",
        "               3: 'Pleasant-Unactive'}"
      ],
      "execution_count": null,
      "outputs": []
    },
    {
      "cell_type": "markdown",
      "metadata": {
        "id": "DI8io6r7_n6J"
      },
      "source": [
        "Show a batch of images"
      ]
    },
    {
      "cell_type": "code",
      "metadata": {
        "id": "U5GvzYE3_tur",
        "colab": {
          "base_uri": "https://localhost:8080/"
        },
        "outputId": "f4e974d1-8e18-4b65-f820-a3d618ec4702"
      },
      "source": [
        "# Get a batch of training data\n",
        "inputs, labels = next(iter(train_loader))\n",
        "\n",
        "# Make a grid from batch\n",
        "out = utils.make_grid(inputs)\n",
        "print(labels)\n",
        "\n",
        "imshow(out)"
      ],
      "execution_count": null,
      "outputs": [
        {
          "output_type": "stream",
          "text": [
            "tensor([1, 1, 0, 2, 3, 0, 3, 0, 3, 2, 2, 3, 2, 3, 3, 3, 1, 0, 1, 0, 2, 3, 2, 0,\n",
            "        1, 3, 2, 3, 3, 1, 2, 3])\n"
          ],
          "name": "stdout"
        },
        {
          "output_type": "display_data",
          "data": {
            "image/png": "[encoded data removed]",
            "text/plain": [
              "<Figure size 432x288 with 1 Axes>"
            ]
          },
          "metadata": {
            "tags": [],
            "needs_background": "light"
          }
        }
      ]
    },
    {
      "cell_type": "markdown",
      "metadata": {
        "id": "INrnPVwPANzb"
      },
      "source": [
        "# The Model"
      ]
    },
    {
      "cell_type": "markdown",
      "metadata": {
        "id": "XhySHjo1Csxd"
      },
      "source": [
        "## Model Definition"
      ]
    },
    {
      "cell_type": "code",
      "metadata": {
        "id": "jUFXm-YLCvIt"
      },
      "source": [
        "class Senet50_ferplus_dag(nn.Module):\n",
        "\n",
        "    def __init__(self):\n",
        "        super(Senet50_ferplus_dag, self).__init__()\n",
        "        self.meta = {'mean': [131.0912, 103.8827, 91.4953],\n",
        "                     'std': [1, 1, 1],\n",
        "                     'imageSize': [224, 224, 3]}\n",
        "        self.conv1_7x7_s2 = nn.Conv2d(3, 64, kernel_size=[7, 7], stride=(2, 2), padding=(3, 3), bias=False)\n",
        "        self.conv1_7x7_s2_bn = nn.BatchNorm2d(64, eps=1e-05, momentum=0.1, affine=True, track_running_stats=True)\n",
        "        self.conv1_relu_7x7_s2 = nn.ReLU()\n",
        "        self.pool1_3x3_s2 = nn.MaxPool2d(kernel_size=[3, 3], stride=[2, 2], padding=(0, 0), dilation=1, ceil_mode=True)\n",
        "        self.conv2_1_1x1_reduce = nn.Conv2d(64, 64, kernel_size=[1, 1], stride=(1, 1), bias=False)\n",
        "        self.conv2_1_1x1_reduce_bn = nn.BatchNorm2d(64, eps=1e-05, momentum=0.1, affine=True, track_running_stats=True)\n",
        "        self.conv2_1_1x1_reduce_relu = nn.ReLU()\n",
        "        self.conv2_1_3x3 = nn.Conv2d(64, 64, kernel_size=[3, 3], stride=(1, 1), padding=(1, 1), bias=False)\n",
        "        self.conv2_1_3x3_bn = nn.BatchNorm2d(64, eps=1e-05, momentum=0.1, affine=True, track_running_stats=True)\n",
        "        self.conv2_1_3x3_relu = nn.ReLU()\n",
        "        self.conv2_1_1x1_increase = nn.Conv2d(64, 256, kernel_size=[1, 1], stride=(1, 1), bias=False)\n",
        "        self.conv2_1_1x1_increase_bn = nn.BatchNorm2d(256, eps=1e-05, momentum=0.1, affine=True, track_running_stats=True)\n",
        "        self.conv2_1_global_pool = nn.AdaptiveAvgPool2d(output_size=1)\n",
        "        self.conv2_1_1x1_down = nn.Conv2d(256, 16, kernel_size=[1, 1], stride=(1, 1))\n",
        "        self.conv2_1_1x1_down_relu = nn.ReLU()\n",
        "        self.conv2_1_1x1_up = nn.Conv2d(16, 256, kernel_size=[1, 1], stride=(1, 1))\n",
        "        self.conv2_1_prob = nn.Sigmoid()\n",
        "        self.conv2_1_1x1_proj = nn.Conv2d(64, 256, kernel_size=[1, 1], stride=(1, 1), bias=False)\n",
        "        self.conv2_1_1x1_proj_bn = nn.BatchNorm2d(256, eps=1e-05, momentum=0.1, affine=True, track_running_stats=True)\n",
        "        self.conv2_1_relu = nn.ReLU()\n",
        "        self.conv2_2_1x1_reduce = nn.Conv2d(256, 64, kernel_size=[1, 1], stride=(1, 1), bias=False)\n",
        "        self.conv2_2_1x1_reduce_bn = nn.BatchNorm2d(64, eps=1e-05, momentum=0.1, affine=True, track_running_stats=True)\n",
        "        self.conv2_2_1x1_reduce_relu = nn.ReLU()\n",
        "        self.conv2_2_3x3 = nn.Conv2d(64, 64, kernel_size=[3, 3], stride=(1, 1), padding=(1, 1), bias=False)\n",
        "        self.conv2_2_3x3_bn = nn.BatchNorm2d(64, eps=1e-05, momentum=0.1, affine=True, track_running_stats=True)\n",
        "        self.conv2_2_3x3_relu = nn.ReLU()\n",
        "        self.conv2_2_1x1_increase = nn.Conv2d(64, 256, kernel_size=[1, 1], stride=(1, 1), bias=False)\n",
        "        self.conv2_2_1x1_increase_bn = nn.BatchNorm2d(256, eps=1e-05, momentum=0.1, affine=True, track_running_stats=True)\n",
        "        self.conv2_2_global_pool = nn.AdaptiveAvgPool2d(output_size=1)\n",
        "        self.conv2_2_1x1_down = nn.Conv2d(256, 16, kernel_size=[1, 1], stride=(1, 1))\n",
        "        self.conv2_2_1x1_down_relu = nn.ReLU()\n",
        "        self.conv2_2_1x1_up = nn.Conv2d(16, 256, kernel_size=[1, 1], stride=(1, 1))\n",
        "        self.conv2_2_prob = nn.Sigmoid()\n",
        "        self.conv2_2_relu = nn.ReLU()\n",
        "        self.conv2_3_1x1_reduce = nn.Conv2d(256, 64, kernel_size=[1, 1], stride=(1, 1), bias=False)\n",
        "        self.conv2_3_1x1_reduce_bn = nn.BatchNorm2d(64, eps=1e-05, momentum=0.1, affine=True, track_running_stats=True)\n",
        "        self.conv2_3_1x1_reduce_relu = nn.ReLU()\n",
        "        self.conv2_3_3x3 = nn.Conv2d(64, 64, kernel_size=[3, 3], stride=(1, 1), padding=(1, 1), bias=False)\n",
        "        self.conv2_3_3x3_bn = nn.BatchNorm2d(64, eps=1e-05, momentum=0.1, affine=True, track_running_stats=True)\n",
        "        self.conv2_3_3x3_relu = nn.ReLU()\n",
        "        self.conv2_3_1x1_increase = nn.Conv2d(64, 256, kernel_size=[1, 1], stride=(1, 1), bias=False)\n",
        "        self.conv2_3_1x1_increase_bn = nn.BatchNorm2d(256, eps=1e-05, momentum=0.1, affine=True, track_running_stats=True)\n",
        "        self.conv2_3_global_pool = nn.AdaptiveAvgPool2d(output_size=1)\n",
        "        self.conv2_3_1x1_down = nn.Conv2d(256, 16, kernel_size=[1, 1], stride=(1, 1))\n",
        "        self.conv2_3_1x1_down_relu = nn.ReLU()\n",
        "        self.conv2_3_1x1_up = nn.Conv2d(16, 256, kernel_size=[1, 1], stride=(1, 1))\n",
        "        self.conv2_3_prob = nn.Sigmoid()\n",
        "        self.conv2_3_relu = nn.ReLU()\n",
        "        self.conv3_1_1x1_reduce = nn.Conv2d(256, 128, kernel_size=[1, 1], stride=(2, 2), bias=False)\n",
        "        self.conv3_1_1x1_reduce_bn = nn.BatchNorm2d(128, eps=1e-05, momentum=0.1, affine=True, track_running_stats=True)\n",
        "        self.conv3_1_1x1_reduce_relu = nn.ReLU()\n",
        "        self.conv3_1_3x3 = nn.Conv2d(128, 128, kernel_size=[3, 3], stride=(1, 1), padding=(1, 1), bias=False)\n",
        "        self.conv3_1_3x3_bn = nn.BatchNorm2d(128, eps=1e-05, momentum=0.1, affine=True, track_running_stats=True)\n",
        "        self.conv3_1_3x3_relu = nn.ReLU()\n",
        "        self.conv3_1_1x1_increase = nn.Conv2d(128, 512, kernel_size=[1, 1], stride=(1, 1), bias=False)\n",
        "        self.conv3_1_1x1_increase_bn = nn.BatchNorm2d(512, eps=1e-05, momentum=0.1, affine=True, track_running_stats=True)\n",
        "        self.conv3_1_global_pool = nn.AdaptiveAvgPool2d(output_size=1)\n",
        "        self.conv3_1_1x1_down = nn.Conv2d(512, 32, kernel_size=[1, 1], stride=(1, 1))\n",
        "        self.conv3_1_1x1_down_relu = nn.ReLU()\n",
        "        self.conv3_1_1x1_up = nn.Conv2d(32, 512, kernel_size=[1, 1], stride=(1, 1))\n",
        "        self.conv3_1_prob = nn.Sigmoid()\n",
        "        self.conv3_1_1x1_proj = nn.Conv2d(256, 512, kernel_size=[1, 1], stride=(2, 2), bias=False)\n",
        "        self.conv3_1_1x1_proj_bn = nn.BatchNorm2d(512, eps=1e-05, momentum=0.1, affine=True, track_running_stats=True)\n",
        "        self.conv3_1_relu = nn.ReLU()\n",
        "        self.conv3_2_1x1_reduce = nn.Conv2d(512, 128, kernel_size=[1, 1], stride=(1, 1), bias=False)\n",
        "        self.conv3_2_1x1_reduce_bn = nn.BatchNorm2d(128, eps=1e-05, momentum=0.1, affine=True, track_running_stats=True)\n",
        "        self.conv3_2_1x1_reduce_relu = nn.ReLU()\n",
        "        self.conv3_2_3x3 = nn.Conv2d(128, 128, kernel_size=[3, 3], stride=(1, 1), padding=(1, 1), bias=False)\n",
        "        self.conv3_2_3x3_bn = nn.BatchNorm2d(128, eps=1e-05, momentum=0.1, affine=True, track_running_stats=True)\n",
        "        self.conv3_2_3x3_relu = nn.ReLU()\n",
        "        self.conv3_2_1x1_increase = nn.Conv2d(128, 512, kernel_size=[1, 1], stride=(1, 1), bias=False)\n",
        "        self.conv3_2_1x1_increase_bn = nn.BatchNorm2d(512, eps=1e-05, momentum=0.1, affine=True, track_running_stats=True)\n",
        "        self.conv3_2_global_pool = nn.AdaptiveAvgPool2d(output_size=1)\n",
        "        self.conv3_2_1x1_down = nn.Conv2d(512, 32, kernel_size=[1, 1], stride=(1, 1))\n",
        "        self.conv3_2_1x1_down_relu = nn.ReLU()\n",
        "        self.conv3_2_1x1_up = nn.Conv2d(32, 512, kernel_size=[1, 1], stride=(1, 1))\n",
        "        self.conv3_2_prob = nn.Sigmoid()\n",
        "        self.conv3_2_relu = nn.ReLU()\n",
        "        self.conv3_3_1x1_reduce = nn.Conv2d(512, 128, kernel_size=[1, 1], stride=(1, 1), bias=False)\n",
        "        self.conv3_3_1x1_reduce_bn = nn.BatchNorm2d(128, eps=1e-05, momentum=0.1, affine=True, track_running_stats=True)\n",
        "        self.conv3_3_1x1_reduce_relu = nn.ReLU()\n",
        "        self.conv3_3_3x3 = nn.Conv2d(128, 128, kernel_size=[3, 3], stride=(1, 1), padding=(1, 1), bias=False)\n",
        "        self.conv3_3_3x3_bn = nn.BatchNorm2d(128, eps=1e-05, momentum=0.1, affine=True, track_running_stats=True)\n",
        "        self.conv3_3_3x3_relu = nn.ReLU()\n",
        "        self.conv3_3_1x1_increase = nn.Conv2d(128, 512, kernel_size=[1, 1], stride=(1, 1), bias=False)\n",
        "        self.conv3_3_1x1_increase_bn = nn.BatchNorm2d(512, eps=1e-05, momentum=0.1, affine=True, track_running_stats=True)\n",
        "        self.conv3_3_global_pool = nn.AdaptiveAvgPool2d(output_size=1)\n",
        "        self.conv3_3_1x1_down = nn.Conv2d(512, 32, kernel_size=[1, 1], stride=(1, 1))\n",
        "        self.conv3_3_1x1_down_relu = nn.ReLU()\n",
        "        self.conv3_3_1x1_up = nn.Conv2d(32, 512, kernel_size=[1, 1], stride=(1, 1))\n",
        "        self.conv3_3_prob = nn.Sigmoid()\n",
        "        self.conv3_3_relu = nn.ReLU()\n",
        "        self.conv3_4_1x1_reduce = nn.Conv2d(512, 128, kernel_size=[1, 1], stride=(1, 1), bias=False)\n",
        "        self.conv3_4_1x1_reduce_bn = nn.BatchNorm2d(128, eps=1e-05, momentum=0.1, affine=True, track_running_stats=True)\n",
        "        self.conv3_4_1x1_reduce_relu = nn.ReLU()\n",
        "        self.conv3_4_3x3 = nn.Conv2d(128, 128, kernel_size=[3, 3], stride=(1, 1), padding=(1, 1), bias=False)\n",
        "        self.conv3_4_3x3_bn = nn.BatchNorm2d(128, eps=1e-05, momentum=0.1, affine=True, track_running_stats=True)\n",
        "        self.conv3_4_3x3_relu = nn.ReLU()\n",
        "        self.conv3_4_1x1_increase = nn.Conv2d(128, 512, kernel_size=[1, 1], stride=(1, 1), bias=False)\n",
        "        self.conv3_4_1x1_increase_bn = nn.BatchNorm2d(512, eps=1e-05, momentum=0.1, affine=True, track_running_stats=True)\n",
        "        self.conv3_4_global_pool = nn.AdaptiveAvgPool2d(output_size=1)\n",
        "        self.conv3_4_1x1_down = nn.Conv2d(512, 32, kernel_size=[1, 1], stride=(1, 1))\n",
        "        self.conv3_4_1x1_down_relu = nn.ReLU()\n",
        "        self.conv3_4_1x1_up = nn.Conv2d(32, 512, kernel_size=[1, 1], stride=(1, 1))\n",
        "        self.conv3_4_prob = nn.Sigmoid()\n",
        "        self.conv3_4_relu = nn.ReLU()\n",
        "        self.conv4_1_1x1_reduce = nn.Conv2d(512, 256, kernel_size=[1, 1], stride=(2, 2), bias=False)\n",
        "        self.conv4_1_1x1_reduce_bn = nn.BatchNorm2d(256, eps=1e-05, momentum=0.1, affine=True, track_running_stats=True)\n",
        "        self.conv4_1_1x1_reduce_relu = nn.ReLU()\n",
        "        self.conv4_1_3x3 = nn.Conv2d(256, 256, kernel_size=[3, 3], stride=(1, 1), padding=(1, 1), bias=False)\n",
        "        self.conv4_1_3x3_bn = nn.BatchNorm2d(256, eps=1e-05, momentum=0.1, affine=True, track_running_stats=True)\n",
        "        self.conv4_1_3x3_relu = nn.ReLU()\n",
        "        self.conv4_1_1x1_increase = nn.Conv2d(256, 1024, kernel_size=[1, 1], stride=(1, 1), bias=False)\n",
        "        self.conv4_1_1x1_increase_bn = nn.BatchNorm2d(1024, eps=1e-05, momentum=0.1, affine=True, track_running_stats=True)\n",
        "        self.conv4_1_global_pool = nn.AdaptiveAvgPool2d(output_size=1)\n",
        "        self.conv4_1_1x1_down = nn.Conv2d(1024, 64, kernel_size=[1, 1], stride=(1, 1))\n",
        "        self.conv4_1_1x1_down_relu = nn.ReLU()\n",
        "        self.conv4_1_1x1_up = nn.Conv2d(64, 1024, kernel_size=[1, 1], stride=(1, 1))\n",
        "        self.conv4_1_prob = nn.Sigmoid()\n",
        "        self.conv4_1_1x1_proj = nn.Conv2d(512, 1024, kernel_size=[1, 1], stride=(2, 2), bias=False)\n",
        "        self.conv4_1_1x1_proj_bn = nn.BatchNorm2d(1024, eps=1e-05, momentum=0.1, affine=True, track_running_stats=True)\n",
        "        self.conv4_1_relu = nn.ReLU()\n",
        "        self.conv4_2_1x1_reduce = nn.Conv2d(1024, 256, kernel_size=[1, 1], stride=(1, 1), bias=False)\n",
        "        self.conv4_2_1x1_reduce_bn = nn.BatchNorm2d(256, eps=1e-05, momentum=0.1, affine=True, track_running_stats=True)\n",
        "        self.conv4_2_1x1_reduce_relu = nn.ReLU()\n",
        "        self.conv4_2_3x3 = nn.Conv2d(256, 256, kernel_size=[3, 3], stride=(1, 1), padding=(1, 1), bias=False)\n",
        "        self.conv4_2_3x3_bn = nn.BatchNorm2d(256, eps=1e-05, momentum=0.1, affine=True, track_running_stats=True)\n",
        "        self.conv4_2_3x3_relu = nn.ReLU()\n",
        "        self.conv4_2_1x1_increase = nn.Conv2d(256, 1024, kernel_size=[1, 1], stride=(1, 1), bias=False)\n",
        "        self.conv4_2_1x1_increase_bn = nn.BatchNorm2d(1024, eps=1e-05, momentum=0.1, affine=True, track_running_stats=True)\n",
        "        self.conv4_2_global_pool = nn.AdaptiveAvgPool2d(output_size=1)\n",
        "        self.conv4_2_1x1_down = nn.Conv2d(1024, 64, kernel_size=[1, 1], stride=(1, 1))\n",
        "        self.conv4_2_1x1_down_relu = nn.ReLU()\n",
        "        self.conv4_2_1x1_up = nn.Conv2d(64, 1024, kernel_size=[1, 1], stride=(1, 1))\n",
        "        self.conv4_2_prob = nn.Sigmoid()\n",
        "        self.conv4_2_relu = nn.ReLU()\n",
        "        self.conv4_3_1x1_reduce = nn.Conv2d(1024, 256, kernel_size=[1, 1], stride=(1, 1), bias=False)\n",
        "        self.conv4_3_1x1_reduce_bn = nn.BatchNorm2d(256, eps=1e-05, momentum=0.1, affine=True, track_running_stats=True)\n",
        "        self.conv4_3_1x1_reduce_relu = nn.ReLU()\n",
        "        self.conv4_3_3x3 = nn.Conv2d(256, 256, kernel_size=[3, 3], stride=(1, 1), padding=(1, 1), bias=False)\n",
        "        self.conv4_3_3x3_bn = nn.BatchNorm2d(256, eps=1e-05, momentum=0.1, affine=True, track_running_stats=True)\n",
        "        self.conv4_3_3x3_relu = nn.ReLU()\n",
        "        self.conv4_3_1x1_increase = nn.Conv2d(256, 1024, kernel_size=[1, 1], stride=(1, 1), bias=False)\n",
        "        self.conv4_3_1x1_increase_bn = nn.BatchNorm2d(1024, eps=1e-05, momentum=0.1, affine=True, track_running_stats=True)\n",
        "        self.conv4_3_global_pool = nn.AdaptiveAvgPool2d(output_size=1)\n",
        "        self.conv4_3_1x1_down = nn.Conv2d(1024, 64, kernel_size=[1, 1], stride=(1, 1))\n",
        "        self.conv4_3_1x1_down_relu = nn.ReLU()\n",
        "        self.conv4_3_1x1_up = nn.Conv2d(64, 1024, kernel_size=[1, 1], stride=(1, 1))\n",
        "        self.conv4_3_prob = nn.Sigmoid()\n",
        "        self.conv4_3_relu = nn.ReLU()\n",
        "        self.conv4_4_1x1_reduce = nn.Conv2d(1024, 256, kernel_size=[1, 1], stride=(1, 1), bias=False)\n",
        "        self.conv4_4_1x1_reduce_bn = nn.BatchNorm2d(256, eps=1e-05, momentum=0.1, affine=True, track_running_stats=True)\n",
        "        self.conv4_4_1x1_reduce_relu = nn.ReLU()\n",
        "        self.conv4_4_3x3 = nn.Conv2d(256, 256, kernel_size=[3, 3], stride=(1, 1), padding=(1, 1), bias=False)\n",
        "        self.conv4_4_3x3_bn = nn.BatchNorm2d(256, eps=1e-05, momentum=0.1, affine=True, track_running_stats=True)\n",
        "        self.conv4_4_3x3_relu = nn.ReLU()\n",
        "        self.conv4_4_1x1_increase = nn.Conv2d(256, 1024, kernel_size=[1, 1], stride=(1, 1), bias=False)\n",
        "        self.conv4_4_1x1_increase_bn = nn.BatchNorm2d(1024, eps=1e-05, momentum=0.1, affine=True, track_running_stats=True)\n",
        "        self.conv4_4_global_pool = nn.AdaptiveAvgPool2d(output_size=1)\n",
        "        self.conv4_4_1x1_down = nn.Conv2d(1024, 64, kernel_size=[1, 1], stride=(1, 1))\n",
        "        self.conv4_4_1x1_down_relu = nn.ReLU()\n",
        "        self.conv4_4_1x1_up = nn.Conv2d(64, 1024, kernel_size=[1, 1], stride=(1, 1))\n",
        "        self.conv4_4_prob = nn.Sigmoid()\n",
        "        self.conv4_4_relu = nn.ReLU()\n",
        "        self.conv4_5_1x1_reduce = nn.Conv2d(1024, 256, kernel_size=[1, 1], stride=(1, 1), bias=False)\n",
        "        self.conv4_5_1x1_reduce_bn = nn.BatchNorm2d(256, eps=1e-05, momentum=0.1, affine=True, track_running_stats=True)\n",
        "        self.conv4_5_1x1_reduce_relu = nn.ReLU()\n",
        "        self.conv4_5_3x3 = nn.Conv2d(256, 256, kernel_size=[3, 3], stride=(1, 1), padding=(1, 1), bias=False)\n",
        "        self.conv4_5_3x3_bn = nn.BatchNorm2d(256, eps=1e-05, momentum=0.1, affine=True, track_running_stats=True)\n",
        "        self.conv4_5_3x3_relu = nn.ReLU()\n",
        "        self.conv4_5_1x1_increase = nn.Conv2d(256, 1024, kernel_size=[1, 1], stride=(1, 1), bias=False)\n",
        "        self.conv4_5_1x1_increase_bn = nn.BatchNorm2d(1024, eps=1e-05, momentum=0.1, affine=True, track_running_stats=True)\n",
        "        self.conv4_5_global_pool = nn.AdaptiveAvgPool2d(output_size=1)\n",
        "        self.conv4_5_1x1_down = nn.Conv2d(1024, 64, kernel_size=[1, 1], stride=(1, 1))\n",
        "        self.conv4_5_1x1_down_relu = nn.ReLU()\n",
        "        self.conv4_5_1x1_up = nn.Conv2d(64, 1024, kernel_size=[1, 1], stride=(1, 1))\n",
        "        self.conv4_5_prob = nn.Sigmoid()\n",
        "        self.conv4_5_relu = nn.ReLU()\n",
        "        self.conv4_6_1x1_reduce = nn.Conv2d(1024, 256, kernel_size=[1, 1], stride=(1, 1), bias=False)\n",
        "        self.conv4_6_1x1_reduce_bn = nn.BatchNorm2d(256, eps=1e-05, momentum=0.1, affine=True, track_running_stats=True)\n",
        "        self.conv4_6_1x1_reduce_relu = nn.ReLU()\n",
        "        self.conv4_6_3x3 = nn.Conv2d(256, 256, kernel_size=[3, 3], stride=(1, 1), padding=(1, 1), bias=False)\n",
        "        self.conv4_6_3x3_bn = nn.BatchNorm2d(256, eps=1e-05, momentum=0.1, affine=True, track_running_stats=True)\n",
        "        self.conv4_6_3x3_relu = nn.ReLU()\n",
        "        self.conv4_6_1x1_increase = nn.Conv2d(256, 1024, kernel_size=[1, 1], stride=(1, 1), bias=False)\n",
        "        self.conv4_6_1x1_increase_bn = nn.BatchNorm2d(1024, eps=1e-05, momentum=0.1, affine=True, track_running_stats=True)\n",
        "        self.conv4_6_global_pool = nn.AdaptiveAvgPool2d(output_size=1)\n",
        "        self.conv4_6_1x1_down = nn.Conv2d(1024, 64, kernel_size=[1, 1], stride=(1, 1))\n",
        "        self.conv4_6_1x1_down_relu = nn.ReLU()\n",
        "        self.conv4_6_1x1_up = nn.Conv2d(64, 1024, kernel_size=[1, 1], stride=(1, 1))\n",
        "        self.conv4_6_prob = nn.Sigmoid()\n",
        "        self.conv4_6_relu = nn.ReLU()\n",
        "        self.conv5_1_1x1_reduce = nn.Conv2d(1024, 512, kernel_size=[1, 1], stride=(2, 2), bias=False)\n",
        "        self.conv5_1_1x1_reduce_bn = nn.BatchNorm2d(512, eps=1e-05, momentum=0.1, affine=True, track_running_stats=True)\n",
        "        self.conv5_1_1x1_reduce_relu = nn.ReLU()\n",
        "        self.conv5_1_3x3 = nn.Conv2d(512, 512, kernel_size=[3, 3], stride=(1, 1), padding=(1, 1), bias=False)\n",
        "        self.conv5_1_3x3_bn = nn.BatchNorm2d(512, eps=1e-05, momentum=0.1, affine=True, track_running_stats=True)\n",
        "        self.conv5_1_3x3_relu = nn.ReLU()\n",
        "        self.conv5_1_1x1_increase = nn.Conv2d(512, 2048, kernel_size=[1, 1], stride=(1, 1), bias=False)\n",
        "        self.conv5_1_1x1_increase_bn = nn.BatchNorm2d(2048, eps=1e-05, momentum=0.1, affine=True, track_running_stats=True)\n",
        "        self.conv5_1_global_pool = nn.AdaptiveAvgPool2d(output_size=1)\n",
        "        self.conv5_1_1x1_down = nn.Conv2d(2048, 128, kernel_size=[1, 1], stride=(1, 1))\n",
        "        self.conv5_1_1x1_down_relu = nn.ReLU()\n",
        "        self.conv5_1_1x1_up = nn.Conv2d(128, 2048, kernel_size=[1, 1], stride=(1, 1))\n",
        "        self.conv5_1_prob = nn.Sigmoid()\n",
        "        self.conv5_1_1x1_proj = nn.Conv2d(1024, 2048, kernel_size=[1, 1], stride=(2, 2), bias=False)\n",
        "        self.conv5_1_1x1_proj_bn = nn.BatchNorm2d(2048, eps=1e-05, momentum=0.1, affine=True, track_running_stats=True)\n",
        "        self.conv5_1_relu = nn.ReLU()\n",
        "        self.conv5_2_1x1_reduce = nn.Conv2d(2048, 512, kernel_size=[1, 1], stride=(1, 1), bias=False)\n",
        "        self.conv5_2_1x1_reduce_bn = nn.BatchNorm2d(512, eps=1e-05, momentum=0.1, affine=True, track_running_stats=True)\n",
        "        self.conv5_2_1x1_reduce_relu = nn.ReLU()\n",
        "        self.conv5_2_3x3 = nn.Conv2d(512, 512, kernel_size=[3, 3], stride=(1, 1), padding=(1, 1), bias=False)\n",
        "        self.conv5_2_3x3_bn = nn.BatchNorm2d(512, eps=1e-05, momentum=0.1, affine=True, track_running_stats=True)\n",
        "        self.conv5_2_3x3_relu = nn.ReLU()\n",
        "        self.conv5_2_1x1_increase = nn.Conv2d(512, 2048, kernel_size=[1, 1], stride=(1, 1), bias=False)\n",
        "        self.conv5_2_1x1_increase_bn = nn.BatchNorm2d(2048, eps=1e-05, momentum=0.1, affine=True, track_running_stats=True)\n",
        "        self.conv5_2_global_pool = nn.AdaptiveAvgPool2d(output_size=1)\n",
        "        self.conv5_2_1x1_down = nn.Conv2d(2048, 128, kernel_size=[1, 1], stride=(1, 1))\n",
        "        self.conv5_2_1x1_down_relu = nn.ReLU()\n",
        "        self.conv5_2_1x1_up = nn.Conv2d(128, 2048, kernel_size=[1, 1], stride=(1, 1))\n",
        "        self.conv5_2_prob = nn.Sigmoid()\n",
        "        self.conv5_2_relu = nn.ReLU()\n",
        "        self.conv5_3_1x1_reduce = nn.Conv2d(2048, 512, kernel_size=[1, 1], stride=(1, 1), bias=False)\n",
        "        self.conv5_3_1x1_reduce_bn = nn.BatchNorm2d(512, eps=1e-05, momentum=0.1, affine=True, track_running_stats=True)\n",
        "        self.conv5_3_1x1_reduce_relu = nn.ReLU()\n",
        "        self.conv5_3_3x3 = nn.Conv2d(512, 512, kernel_size=[3, 3], stride=(1, 1), padding=(1, 1), bias=False)\n",
        "        self.conv5_3_3x3_bn = nn.BatchNorm2d(512, eps=1e-05, momentum=0.1, affine=True, track_running_stats=True)\n",
        "        self.conv5_3_3x3_relu = nn.ReLU()\n",
        "        self.conv5_3_1x1_increase = nn.Conv2d(512, 2048, kernel_size=[1, 1], stride=(1, 1), bias=False)\n",
        "        self.conv5_3_1x1_increase_bn = nn.BatchNorm2d(2048, eps=1e-05, momentum=0.1, affine=True, track_running_stats=True)\n",
        "        self.conv5_3_global_pool = nn.AdaptiveAvgPool2d(output_size=1)\n",
        "        self.conv5_3_1x1_down = nn.Conv2d(2048, 128, kernel_size=[1, 1], stride=(1, 1))\n",
        "        self.conv5_3_1x1_down_drop = nn.Dropout(p=0.5)\n",
        "        self.conv5_3_1x1_down_relu = nn.ReLU()\n",
        "        self.conv5_3_1x1_up = nn.Conv2d(128, 2048, kernel_size=[1, 1], stride=(1, 1))\n",
        "        self.conv5_3_1x1_up_drop = nn.Dropout(p=0.5)\n",
        "        self.conv5_3_prob = nn.Sigmoid()\n",
        "        self.conv5_3_relu = nn.ReLU()\n",
        "        self.pool5_7x7_s1 = nn.AvgPool2d(kernel_size=[7, 7], stride=[1, 1], padding=0)\n",
        "        self.classifier = nn.Conv2d(2048, 8, kernel_size=[1, 1], stride=(1, 1))\n",
        "\n",
        "    def forward(self, data):\n",
        "        conv1_7x7_s2 = self.conv1_7x7_s2(data)\n",
        "        conv1_7x7_s2_bn = self.conv1_7x7_s2_bn(conv1_7x7_s2)\n",
        "        conv1_7x7_s2_bnxx = self.conv1_relu_7x7_s2(conv1_7x7_s2_bn)\n",
        "        pool1_3x3_s2 = self.pool1_3x3_s2(conv1_7x7_s2_bnxx)\n",
        "        conv2_1_1x1_reduce = self.conv2_1_1x1_reduce(pool1_3x3_s2)\n",
        "        conv2_1_1x1_reduce_bn = self.conv2_1_1x1_reduce_bn(conv2_1_1x1_reduce)\n",
        "        conv2_1_1x1_reduce_bnxx = self.conv2_1_1x1_reduce_relu(conv2_1_1x1_reduce_bn)\n",
        "        conv2_1_3x3 = self.conv2_1_3x3(conv2_1_1x1_reduce_bnxx)\n",
        "        conv2_1_3x3_bn = self.conv2_1_3x3_bn(conv2_1_3x3)\n",
        "        conv2_1_3x3_bnxx = self.conv2_1_3x3_relu(conv2_1_3x3_bn)\n",
        "        conv2_1_1x1_increase = self.conv2_1_1x1_increase(conv2_1_3x3_bnxx)\n",
        "        conv2_1_1x1_increase_bn = self.conv2_1_1x1_increase_bn(conv2_1_1x1_increase)\n",
        "        conv2_1_global_pool = self.conv2_1_global_pool(conv2_1_1x1_increase_bn)\n",
        "        conv2_1_1x1_down = self.conv2_1_1x1_down(conv2_1_global_pool)\n",
        "        conv2_1_1x1_downx = self.conv2_1_1x1_down_relu(conv2_1_1x1_down)\n",
        "        conv2_1_1x1_up = self.conv2_1_1x1_up(conv2_1_1x1_downx)\n",
        "        conv2_1_1x1_upx = self.conv2_1_prob(conv2_1_1x1_up)\n",
        "        conv2_1_1x1_proj = self.conv2_1_1x1_proj(pool1_3x3_s2)\n",
        "        conv2_1_prob_reshape = conv2_1_1x1_upx\n",
        "        conv2_1_1x1_proj_bn = self.conv2_1_1x1_proj_bn(conv2_1_1x1_proj)\n",
        "        conv2_1 = conv2_1_prob_reshape.expand_as(conv2_1_1x1_increase_bn) * conv2_1_1x1_increase_bn + conv2_1_1x1_proj_bn\n",
        "        conv2_1x = self.conv2_1_relu(conv2_1)\n",
        "        conv2_2_1x1_reduce = self.conv2_2_1x1_reduce(conv2_1x)\n",
        "        conv2_2_1x1_reduce_bn = self.conv2_2_1x1_reduce_bn(conv2_2_1x1_reduce)\n",
        "        conv2_2_1x1_reduce_bnxx = self.conv2_2_1x1_reduce_relu(conv2_2_1x1_reduce_bn)\n",
        "        conv2_2_3x3 = self.conv2_2_3x3(conv2_2_1x1_reduce_bnxx)\n",
        "        conv2_2_3x3_bn = self.conv2_2_3x3_bn(conv2_2_3x3)\n",
        "        conv2_2_3x3_bnxx = self.conv2_2_3x3_relu(conv2_2_3x3_bn)\n",
        "        conv2_2_1x1_increase = self.conv2_2_1x1_increase(conv2_2_3x3_bnxx)\n",
        "        conv2_2_1x1_increase_bn = self.conv2_2_1x1_increase_bn(conv2_2_1x1_increase)\n",
        "        conv2_2_global_pool = self.conv2_2_global_pool(conv2_2_1x1_increase_bn)\n",
        "        conv2_2_1x1_down = self.conv2_2_1x1_down(conv2_2_global_pool)\n",
        "        conv2_2_1x1_downx = self.conv2_2_1x1_down_relu(conv2_2_1x1_down)\n",
        "        conv2_2_1x1_up = self.conv2_2_1x1_up(conv2_2_1x1_downx)\n",
        "        conv2_2_1x1_upx = self.conv2_2_prob(conv2_2_1x1_up)\n",
        "        conv2_2_prob_reshape = conv2_2_1x1_upx\n",
        "        conv2_2 = conv2_2_prob_reshape.expand_as(conv2_2_1x1_increase_bn) * conv2_2_1x1_increase_bn + conv2_1x\n",
        "        conv2_2x = self.conv2_2_relu(conv2_2)\n",
        "        conv2_3_1x1_reduce = self.conv2_3_1x1_reduce(conv2_2x)\n",
        "        conv2_3_1x1_reduce_bn = self.conv2_3_1x1_reduce_bn(conv2_3_1x1_reduce)\n",
        "        conv2_3_1x1_reduce_bnxx = self.conv2_3_1x1_reduce_relu(conv2_3_1x1_reduce_bn)\n",
        "        conv2_3_3x3 = self.conv2_3_3x3(conv2_3_1x1_reduce_bnxx)\n",
        "        conv2_3_3x3_bn = self.conv2_3_3x3_bn(conv2_3_3x3)\n",
        "        conv2_3_3x3_bnxx = self.conv2_3_3x3_relu(conv2_3_3x3_bn)\n",
        "        conv2_3_1x1_increase = self.conv2_3_1x1_increase(conv2_3_3x3_bnxx)\n",
        "        conv2_3_1x1_increase_bn = self.conv2_3_1x1_increase_bn(conv2_3_1x1_increase)\n",
        "        conv2_3_global_pool = self.conv2_3_global_pool(conv2_3_1x1_increase_bn)\n",
        "        conv2_3_1x1_down = self.conv2_3_1x1_down(conv2_3_global_pool)\n",
        "        conv2_3_1x1_downx = self.conv2_3_1x1_down_relu(conv2_3_1x1_down)\n",
        "        conv2_3_1x1_up = self.conv2_3_1x1_up(conv2_3_1x1_downx)\n",
        "        conv2_3_1x1_upx = self.conv2_3_prob(conv2_3_1x1_up)\n",
        "        conv2_3_prob_reshape = conv2_3_1x1_upx\n",
        "        conv2_3 = conv2_3_prob_reshape.expand_as(conv2_3_1x1_increase_bn) * conv2_3_1x1_increase_bn + conv2_2x\n",
        "        conv2_3x = self.conv2_3_relu(conv2_3)\n",
        "        conv3_1_1x1_reduce = self.conv3_1_1x1_reduce(conv2_3x)\n",
        "        conv3_1_1x1_reduce_bn = self.conv3_1_1x1_reduce_bn(conv3_1_1x1_reduce)\n",
        "        conv3_1_1x1_reduce_bnxx = self.conv3_1_1x1_reduce_relu(conv3_1_1x1_reduce_bn)\n",
        "        conv3_1_3x3 = self.conv3_1_3x3(conv3_1_1x1_reduce_bnxx)\n",
        "        conv3_1_3x3_bn = self.conv3_1_3x3_bn(conv3_1_3x3)\n",
        "        conv3_1_3x3_bnxx = self.conv3_1_3x3_relu(conv3_1_3x3_bn)\n",
        "        conv3_1_1x1_increase = self.conv3_1_1x1_increase(conv3_1_3x3_bnxx)\n",
        "        conv3_1_1x1_increase_bn = self.conv3_1_1x1_increase_bn(conv3_1_1x1_increase)\n",
        "        conv3_1_global_pool = self.conv3_1_global_pool(conv3_1_1x1_increase_bn)\n",
        "        conv3_1_1x1_down = self.conv3_1_1x1_down(conv3_1_global_pool)\n",
        "        conv3_1_1x1_downx = self.conv3_1_1x1_down_relu(conv3_1_1x1_down)\n",
        "        conv3_1_1x1_up = self.conv3_1_1x1_up(conv3_1_1x1_downx)\n",
        "        conv3_1_1x1_upx = self.conv3_1_prob(conv3_1_1x1_up)\n",
        "        conv3_1_1x1_proj = self.conv3_1_1x1_proj(conv2_3x)\n",
        "        conv3_1_prob_reshape = conv3_1_1x1_upx\n",
        "        conv3_1_1x1_proj_bn = self.conv3_1_1x1_proj_bn(conv3_1_1x1_proj)\n",
        "        conv3_1 = conv3_1_prob_reshape.expand_as(conv3_1_1x1_increase_bn) * conv3_1_1x1_increase_bn + conv3_1_1x1_proj_bn\n",
        "        conv3_1x = self.conv3_1_relu(conv3_1)\n",
        "        conv3_2_1x1_reduce = self.conv3_2_1x1_reduce(conv3_1x)\n",
        "        conv3_2_1x1_reduce_bn = self.conv3_2_1x1_reduce_bn(conv3_2_1x1_reduce)\n",
        "        conv3_2_1x1_reduce_bnxx = self.conv3_2_1x1_reduce_relu(conv3_2_1x1_reduce_bn)\n",
        "        conv3_2_3x3 = self.conv3_2_3x3(conv3_2_1x1_reduce_bnxx)\n",
        "        conv3_2_3x3_bn = self.conv3_2_3x3_bn(conv3_2_3x3)\n",
        "        conv3_2_3x3_bnxx = self.conv3_2_3x3_relu(conv3_2_3x3_bn)\n",
        "        conv3_2_1x1_increase = self.conv3_2_1x1_increase(conv3_2_3x3_bnxx)\n",
        "        conv3_2_1x1_increase_bn = self.conv3_2_1x1_increase_bn(conv3_2_1x1_increase)\n",
        "        conv3_2_global_pool = self.conv3_2_global_pool(conv3_2_1x1_increase_bn)\n",
        "        conv3_2_1x1_down = self.conv3_2_1x1_down(conv3_2_global_pool)\n",
        "        conv3_2_1x1_downx = self.conv3_2_1x1_down_relu(conv3_2_1x1_down)\n",
        "        conv3_2_1x1_up = self.conv3_2_1x1_up(conv3_2_1x1_downx)\n",
        "        conv3_2_1x1_upx = self.conv3_2_prob(conv3_2_1x1_up)\n",
        "        conv3_2_prob_reshape = conv3_2_1x1_upx\n",
        "        conv3_2 = conv3_2_prob_reshape.expand_as(conv3_2_1x1_increase_bn) * conv3_2_1x1_increase_bn + conv3_1x\n",
        "        conv3_2x = self.conv3_2_relu(conv3_2)\n",
        "        conv3_3_1x1_reduce = self.conv3_3_1x1_reduce(conv3_2x)\n",
        "        conv3_3_1x1_reduce_bn = self.conv3_3_1x1_reduce_bn(conv3_3_1x1_reduce)\n",
        "        conv3_3_1x1_reduce_bnxx = self.conv3_3_1x1_reduce_relu(conv3_3_1x1_reduce_bn)\n",
        "        conv3_3_3x3 = self.conv3_3_3x3(conv3_3_1x1_reduce_bnxx)\n",
        "        conv3_3_3x3_bn = self.conv3_3_3x3_bn(conv3_3_3x3)\n",
        "        conv3_3_3x3_bnxx = self.conv3_3_3x3_relu(conv3_3_3x3_bn)\n",
        "        conv3_3_1x1_increase = self.conv3_3_1x1_increase(conv3_3_3x3_bnxx)\n",
        "        conv3_3_1x1_increase_bn = self.conv3_3_1x1_increase_bn(conv3_3_1x1_increase)\n",
        "        conv3_3_global_pool = self.conv3_3_global_pool(conv3_3_1x1_increase_bn)\n",
        "        conv3_3_1x1_down = self.conv3_3_1x1_down(conv3_3_global_pool)\n",
        "        conv3_3_1x1_downx = self.conv3_3_1x1_down_relu(conv3_3_1x1_down)\n",
        "        conv3_3_1x1_up = self.conv3_3_1x1_up(conv3_3_1x1_downx)\n",
        "        conv3_3_1x1_upx = self.conv3_3_prob(conv3_3_1x1_up)\n",
        "        conv3_3_prob_reshape = conv3_3_1x1_upx\n",
        "        conv3_3 = conv3_3_prob_reshape.expand_as(conv3_3_1x1_increase_bn) * conv3_3_1x1_increase_bn + conv3_2x\n",
        "        conv3_3x = self.conv3_3_relu(conv3_3)\n",
        "        conv3_4_1x1_reduce = self.conv3_4_1x1_reduce(conv3_3x)\n",
        "        conv3_4_1x1_reduce_bn = self.conv3_4_1x1_reduce_bn(conv3_4_1x1_reduce)\n",
        "        conv3_4_1x1_reduce_bnxx = self.conv3_4_1x1_reduce_relu(conv3_4_1x1_reduce_bn)\n",
        "        conv3_4_3x3 = self.conv3_4_3x3(conv3_4_1x1_reduce_bnxx)\n",
        "        conv3_4_3x3_bn = self.conv3_4_3x3_bn(conv3_4_3x3)\n",
        "        conv3_4_3x3_bnxx = self.conv3_4_3x3_relu(conv3_4_3x3_bn)\n",
        "        conv3_4_1x1_increase = self.conv3_4_1x1_increase(conv3_4_3x3_bnxx)\n",
        "        conv3_4_1x1_increase_bn = self.conv3_4_1x1_increase_bn(conv3_4_1x1_increase)\n",
        "        conv3_4_global_pool = self.conv3_4_global_pool(conv3_4_1x1_increase_bn)\n",
        "        conv3_4_1x1_down = self.conv3_4_1x1_down(conv3_4_global_pool)\n",
        "        conv3_4_1x1_downx = self.conv3_4_1x1_down_relu(conv3_4_1x1_down)\n",
        "        conv3_4_1x1_up = self.conv3_4_1x1_up(conv3_4_1x1_downx)\n",
        "        conv3_4_1x1_upx = self.conv3_4_prob(conv3_4_1x1_up)\n",
        "        conv3_4_prob_reshape = conv3_4_1x1_upx\n",
        "        conv3_4 = conv3_4_prob_reshape.expand_as(conv3_4_1x1_increase_bn) * conv3_4_1x1_increase_bn + conv3_3x\n",
        "        conv3_4x = self.conv3_4_relu(conv3_4)\n",
        "        conv4_1_1x1_reduce = self.conv4_1_1x1_reduce(conv3_4x)\n",
        "        conv4_1_1x1_reduce_bn = self.conv4_1_1x1_reduce_bn(conv4_1_1x1_reduce)\n",
        "        conv4_1_1x1_reduce_bnxx = self.conv4_1_1x1_reduce_relu(conv4_1_1x1_reduce_bn)\n",
        "        conv4_1_3x3 = self.conv4_1_3x3(conv4_1_1x1_reduce_bnxx)\n",
        "        conv4_1_3x3_bn = self.conv4_1_3x3_bn(conv4_1_3x3)\n",
        "        conv4_1_3x3_bnxx = self.conv4_1_3x3_relu(conv4_1_3x3_bn)\n",
        "        conv4_1_1x1_increase = self.conv4_1_1x1_increase(conv4_1_3x3_bnxx)\n",
        "        conv4_1_1x1_increase_bn = self.conv4_1_1x1_increase_bn(conv4_1_1x1_increase)\n",
        "        conv4_1_global_pool = self.conv4_1_global_pool(conv4_1_1x1_increase_bn)\n",
        "        conv4_1_1x1_down = self.conv4_1_1x1_down(conv4_1_global_pool)\n",
        "        conv4_1_1x1_downx = self.conv4_1_1x1_down_relu(conv4_1_1x1_down)\n",
        "        conv4_1_1x1_up = self.conv4_1_1x1_up(conv4_1_1x1_downx)\n",
        "        conv4_1_1x1_upx = self.conv4_1_prob(conv4_1_1x1_up)\n",
        "        conv4_1_1x1_proj = self.conv4_1_1x1_proj(conv3_4x)\n",
        "        conv4_1_prob_reshape = conv4_1_1x1_upx\n",
        "        conv4_1_1x1_proj_bn = self.conv4_1_1x1_proj_bn(conv4_1_1x1_proj)\n",
        "        conv4_1 = conv4_1_prob_reshape.expand_as(conv4_1_1x1_increase_bn) * conv4_1_1x1_increase_bn + conv4_1_1x1_proj_bn\n",
        "        conv4_1x = self.conv4_1_relu(conv4_1)\n",
        "        conv4_2_1x1_reduce = self.conv4_2_1x1_reduce(conv4_1x)\n",
        "        conv4_2_1x1_reduce_bn = self.conv4_2_1x1_reduce_bn(conv4_2_1x1_reduce)\n",
        "        conv4_2_1x1_reduce_bnxx = self.conv4_2_1x1_reduce_relu(conv4_2_1x1_reduce_bn)\n",
        "        conv4_2_3x3 = self.conv4_2_3x3(conv4_2_1x1_reduce_bnxx)\n",
        "        conv4_2_3x3_bn = self.conv4_2_3x3_bn(conv4_2_3x3)\n",
        "        conv4_2_3x3_bnxx = self.conv4_2_3x3_relu(conv4_2_3x3_bn)\n",
        "        conv4_2_1x1_increase = self.conv4_2_1x1_increase(conv4_2_3x3_bnxx)\n",
        "        conv4_2_1x1_increase_bn = self.conv4_2_1x1_increase_bn(conv4_2_1x1_increase)\n",
        "        conv4_2_global_pool = self.conv4_2_global_pool(conv4_2_1x1_increase_bn)\n",
        "        conv4_2_1x1_down = self.conv4_2_1x1_down(conv4_2_global_pool)\n",
        "        conv4_2_1x1_downx = self.conv4_2_1x1_down_relu(conv4_2_1x1_down)\n",
        "        conv4_2_1x1_up = self.conv4_2_1x1_up(conv4_2_1x1_downx)\n",
        "        conv4_2_1x1_upx = self.conv4_2_prob(conv4_2_1x1_up)\n",
        "        conv4_2_prob_reshape = conv4_2_1x1_upx\n",
        "        conv4_2 = conv4_2_prob_reshape.expand_as(conv4_2_1x1_increase_bn) * conv4_2_1x1_increase_bn + conv4_1x\n",
        "        conv4_2x = self.conv4_2_relu(conv4_2)\n",
        "        conv4_3_1x1_reduce = self.conv4_3_1x1_reduce(conv4_2x)\n",
        "        conv4_3_1x1_reduce_bn = self.conv4_3_1x1_reduce_bn(conv4_3_1x1_reduce)\n",
        "        conv4_3_1x1_reduce_bnxx = self.conv4_3_1x1_reduce_relu(conv4_3_1x1_reduce_bn)\n",
        "        conv4_3_3x3 = self.conv4_3_3x3(conv4_3_1x1_reduce_bnxx)\n",
        "        conv4_3_3x3_bn = self.conv4_3_3x3_bn(conv4_3_3x3)\n",
        "        conv4_3_3x3_bnxx = self.conv4_3_3x3_relu(conv4_3_3x3_bn)\n",
        "        conv4_3_1x1_increase = self.conv4_3_1x1_increase(conv4_3_3x3_bnxx)\n",
        "        conv4_3_1x1_increase_bn = self.conv4_3_1x1_increase_bn(conv4_3_1x1_increase)\n",
        "        conv4_3_global_pool = self.conv4_3_global_pool(conv4_3_1x1_increase_bn)\n",
        "        conv4_3_1x1_down = self.conv4_3_1x1_down(conv4_3_global_pool)\n",
        "        conv4_3_1x1_downx = self.conv4_3_1x1_down_relu(conv4_3_1x1_down)\n",
        "        conv4_3_1x1_up = self.conv4_3_1x1_up(conv4_3_1x1_downx)\n",
        "        conv4_3_1x1_upx = self.conv4_3_prob(conv4_3_1x1_up)\n",
        "        conv4_3_prob_reshape = conv4_3_1x1_upx\n",
        "        conv4_3 = conv4_3_prob_reshape.expand_as(conv4_3_1x1_increase_bn) * conv4_3_1x1_increase_bn + conv4_2x\n",
        "        conv4_3x = self.conv4_3_relu(conv4_3)\n",
        "        conv4_4_1x1_reduce = self.conv4_4_1x1_reduce(conv4_3x)\n",
        "        conv4_4_1x1_reduce_bn = self.conv4_4_1x1_reduce_bn(conv4_4_1x1_reduce)\n",
        "        conv4_4_1x1_reduce_bnxx = self.conv4_4_1x1_reduce_relu(conv4_4_1x1_reduce_bn)\n",
        "        conv4_4_3x3 = self.conv4_4_3x3(conv4_4_1x1_reduce_bnxx)\n",
        "        conv4_4_3x3_bn = self.conv4_4_3x3_bn(conv4_4_3x3)\n",
        "        conv4_4_3x3_bnxx = self.conv4_4_3x3_relu(conv4_4_3x3_bn)\n",
        "        conv4_4_1x1_increase = self.conv4_4_1x1_increase(conv4_4_3x3_bnxx)\n",
        "        conv4_4_1x1_increase_bn = self.conv4_4_1x1_increase_bn(conv4_4_1x1_increase)\n",
        "        conv4_4_global_pool = self.conv4_4_global_pool(conv4_4_1x1_increase_bn)\n",
        "        conv4_4_1x1_down = self.conv4_4_1x1_down(conv4_4_global_pool)\n",
        "        conv4_4_1x1_downx = self.conv4_4_1x1_down_relu(conv4_4_1x1_down)\n",
        "        conv4_4_1x1_up = self.conv4_4_1x1_up(conv4_4_1x1_downx)\n",
        "        conv4_4_1x1_upx = self.conv4_4_prob(conv4_4_1x1_up)\n",
        "        conv4_4_prob_reshape = conv4_4_1x1_upx\n",
        "        conv4_4 = conv4_4_prob_reshape.expand_as(conv4_4_1x1_increase_bn) * conv4_4_1x1_increase_bn + conv4_3x\n",
        "        conv4_4x = self.conv4_4_relu(conv4_4)\n",
        "        conv4_5_1x1_reduce = self.conv4_5_1x1_reduce(conv4_4x)\n",
        "        conv4_5_1x1_reduce_bn = self.conv4_5_1x1_reduce_bn(conv4_5_1x1_reduce)\n",
        "        conv4_5_1x1_reduce_bnxx = self.conv4_5_1x1_reduce_relu(conv4_5_1x1_reduce_bn)\n",
        "        conv4_5_3x3 = self.conv4_5_3x3(conv4_5_1x1_reduce_bnxx)\n",
        "        conv4_5_3x3_bn = self.conv4_5_3x3_bn(conv4_5_3x3)\n",
        "        conv4_5_3x3_bnxx = self.conv4_5_3x3_relu(conv4_5_3x3_bn)\n",
        "        conv4_5_1x1_increase = self.conv4_5_1x1_increase(conv4_5_3x3_bnxx)\n",
        "        conv4_5_1x1_increase_bn = self.conv4_5_1x1_increase_bn(conv4_5_1x1_increase)\n",
        "        conv4_5_global_pool = self.conv4_5_global_pool(conv4_5_1x1_increase_bn)\n",
        "        conv4_5_1x1_down = self.conv4_5_1x1_down(conv4_5_global_pool)\n",
        "        conv4_5_1x1_downx = self.conv4_5_1x1_down_relu(conv4_5_1x1_down)\n",
        "        conv4_5_1x1_up = self.conv4_5_1x1_up(conv4_5_1x1_downx)\n",
        "        conv4_5_1x1_upx = self.conv4_5_prob(conv4_5_1x1_up)\n",
        "        conv4_5_prob_reshape = conv4_5_1x1_upx\n",
        "        conv4_5 = conv4_5_prob_reshape.expand_as(conv4_5_1x1_increase_bn) * conv4_5_1x1_increase_bn + conv4_4x\n",
        "        conv4_5x = self.conv4_5_relu(conv4_5)\n",
        "        conv4_6_1x1_reduce = self.conv4_6_1x1_reduce(conv4_5x)\n",
        "        conv4_6_1x1_reduce_bn = self.conv4_6_1x1_reduce_bn(conv4_6_1x1_reduce)\n",
        "        conv4_6_1x1_reduce_bnxx = self.conv4_6_1x1_reduce_relu(conv4_6_1x1_reduce_bn)\n",
        "        conv4_6_3x3 = self.conv4_6_3x3(conv4_6_1x1_reduce_bnxx)\n",
        "        conv4_6_3x3_bn = self.conv4_6_3x3_bn(conv4_6_3x3)\n",
        "        conv4_6_3x3_bnxx = self.conv4_6_3x3_relu(conv4_6_3x3_bn)\n",
        "        conv4_6_1x1_increase = self.conv4_6_1x1_increase(conv4_6_3x3_bnxx)\n",
        "        conv4_6_1x1_increase_bn = self.conv4_6_1x1_increase_bn(conv4_6_1x1_increase)\n",
        "        conv4_6_global_pool = self.conv4_6_global_pool(conv4_6_1x1_increase_bn)\n",
        "        conv4_6_1x1_down = self.conv4_6_1x1_down(conv4_6_global_pool)\n",
        "        conv4_6_1x1_downx = self.conv4_6_1x1_down_relu(conv4_6_1x1_down)\n",
        "        conv4_6_1x1_up = self.conv4_6_1x1_up(conv4_6_1x1_downx)\n",
        "        conv4_6_1x1_upx = self.conv4_6_prob(conv4_6_1x1_up)\n",
        "        conv4_6_prob_reshape = conv4_6_1x1_upx\n",
        "        conv4_6 = conv4_6_prob_reshape.expand_as(conv4_6_1x1_increase_bn) * conv4_6_1x1_increase_bn + conv4_5x\n",
        "        conv4_6x = self.conv4_6_relu(conv4_6)\n",
        "        conv5_1_1x1_reduce = self.conv5_1_1x1_reduce(conv4_6x)\n",
        "        conv5_1_1x1_reduce_bn = self.conv5_1_1x1_reduce_bn(conv5_1_1x1_reduce)\n",
        "        conv5_1_1x1_reduce_bnxx = self.conv5_1_1x1_reduce_relu(conv5_1_1x1_reduce_bn)\n",
        "        conv5_1_3x3 = self.conv5_1_3x3(conv5_1_1x1_reduce_bnxx)\n",
        "        conv5_1_3x3_bn = self.conv5_1_3x3_bn(conv5_1_3x3)\n",
        "        conv5_1_3x3_bnxx = self.conv5_1_3x3_relu(conv5_1_3x3_bn)\n",
        "        conv5_1_1x1_increase = self.conv5_1_1x1_increase(conv5_1_3x3_bnxx)\n",
        "        conv5_1_1x1_increase_bn = self.conv5_1_1x1_increase_bn(conv5_1_1x1_increase)\n",
        "        conv5_1_global_pool = self.conv5_1_global_pool(conv5_1_1x1_increase_bn)\n",
        "        conv5_1_1x1_down = self.conv5_1_1x1_down(conv5_1_global_pool)\n",
        "        conv5_1_1x1_downx = self.conv5_1_1x1_down_relu(conv5_1_1x1_down)\n",
        "        conv5_1_1x1_up = self.conv5_1_1x1_up(conv5_1_1x1_downx)\n",
        "        conv5_1_1x1_upx = self.conv5_1_prob(conv5_1_1x1_up)\n",
        "        conv5_1_1x1_proj = self.conv5_1_1x1_proj(conv4_6x)\n",
        "        conv5_1_prob_reshape = conv5_1_1x1_upx\n",
        "        conv5_1_1x1_proj_bn = self.conv5_1_1x1_proj_bn(conv5_1_1x1_proj)\n",
        "        conv5_1 = conv5_1_prob_reshape.expand_as(conv5_1_1x1_increase_bn) * conv5_1_1x1_increase_bn + conv5_1_1x1_proj_bn\n",
        "        conv5_1x = self.conv5_1_relu(conv5_1)\n",
        "        conv5_2_1x1_reduce = self.conv5_2_1x1_reduce(conv5_1x)\n",
        "        conv5_2_1x1_reduce_bn = self.conv5_2_1x1_reduce_bn(conv5_2_1x1_reduce)\n",
        "        conv5_2_1x1_reduce_bnxx = self.conv5_2_1x1_reduce_relu(conv5_2_1x1_reduce_bn)\n",
        "        conv5_2_3x3 = self.conv5_2_3x3(conv5_2_1x1_reduce_bnxx)\n",
        "        conv5_2_3x3_bn = self.conv5_2_3x3_bn(conv5_2_3x3)\n",
        "        conv5_2_3x3_bnxx = self.conv5_2_3x3_relu(conv5_2_3x3_bn)\n",
        "        conv5_2_1x1_increase = self.conv5_2_1x1_increase(conv5_2_3x3_bnxx)\n",
        "        conv5_2_1x1_increase_bn = self.conv5_2_1x1_increase_bn(conv5_2_1x1_increase)\n",
        "        conv5_2_global_pool = self.conv5_2_global_pool(conv5_2_1x1_increase_bn)\n",
        "        conv5_2_1x1_down = self.conv5_2_1x1_down(conv5_2_global_pool)\n",
        "        conv5_2_1x1_downx = self.conv5_2_1x1_down_relu(conv5_2_1x1_down)\n",
        "        conv5_2_1x1_up = self.conv5_2_1x1_up(conv5_2_1x1_downx)\n",
        "        conv5_2_1x1_upx = self.conv5_2_prob(conv5_2_1x1_up)\n",
        "        conv5_2_prob_reshape = conv5_2_1x1_upx\n",
        "        conv5_2 = conv5_2_prob_reshape.expand_as(conv5_2_1x1_increase_bn) * conv5_2_1x1_increase_bn + conv5_1x\n",
        "        conv5_2x = self.conv5_2_relu(conv5_2)\n",
        "        conv5_3_1x1_reduce = self.conv5_3_1x1_reduce(conv5_2x)\n",
        "        conv5_3_1x1_reduce_bn = self.conv5_3_1x1_reduce_bn(conv5_3_1x1_reduce)\n",
        "        conv5_3_1x1_reduce_bnxx = self.conv5_3_1x1_reduce_relu(conv5_3_1x1_reduce_bn)\n",
        "        conv5_3_3x3 = self.conv5_3_3x3(conv5_3_1x1_reduce_bnxx)\n",
        "        conv5_3_3x3_bn = self.conv5_3_3x3_bn(conv5_3_3x3)\n",
        "        conv5_3_3x3_bnxx = self.conv5_3_3x3_relu(conv5_3_3x3_bn)\n",
        "        conv5_3_1x1_increase = self.conv5_3_1x1_increase(conv5_3_3x3_bnxx)\n",
        "        conv5_3_1x1_increase_bn = self.conv5_3_1x1_increase_bn(conv5_3_1x1_increase)\n",
        "        conv5_3_global_pool = self.conv5_3_global_pool(conv5_3_1x1_increase_bn)\n",
        "        conv5_3_1x1_down = self.conv5_3_1x1_down(conv5_3_global_pool)\n",
        "        conv5_3_1x1_down_drop = self.conv5_3_1x1_down_drop(conv5_3_1x1_down)\n",
        "        conv5_3_1x1_downx = self.conv5_3_1x1_down_relu(conv5_3_1x1_down_drop)\n",
        "        conv5_3_1x1_up = self.conv5_3_1x1_up(conv5_3_1x1_downx)\n",
        "        conv5_3_1x1_up_drop = self.conv5_3_1x1_up_drop(conv5_3_1x1_up)\n",
        "        conv5_3_1x1_upx = self.conv5_3_prob(conv5_3_1x1_up_drop)\n",
        "        conv5_3_prob_reshape = conv5_3_1x1_upx\n",
        "        conv5_3 = conv5_3_prob_reshape.expand_as(conv5_3_1x1_increase_bn) * conv5_3_1x1_increase_bn + conv5_2x\n",
        "        conv5_3x = self.conv5_3_relu(conv5_3)\n",
        "        pool5_7x7_s1 = self.pool5_7x7_s1(conv5_3x)\n",
        "        prediction = self.classifier(pool5_7x7_s1)\n",
        "        return prediction\n",
        "\n",
        "def senet50_ferplus_dag(weights_path=None, **kwargs):\n",
        "    \"\"\"\n",
        "    load imported model instance\n",
        "\n",
        "    Args:\n",
        "        weights_path (str): If set, loads model weights from the given path\n",
        "    \"\"\"\n",
        "    model = Senet50_ferplus_dag()\n",
        "    if weights_path:\n",
        "        state_dict = torch.load(weights_path)\n",
        "        model.load_state_dict(state_dict)\n",
        "    return model\n"
      ],
      "execution_count": null,
      "outputs": []
    },
    {
      "cell_type": "markdown",
      "metadata": {
        "id": "IqynHuqpC0j6"
      },
      "source": [
        "## Model"
      ]
    },
    {
      "cell_type": "code",
      "metadata": {
        "id": "T9w-mDM0C8W6"
      },
      "source": [
        "model = senet50_ferplus_dag('/content/drive/MyDrive/models/senet50_ferplus_dag.pth')\n",
        "# for param in model.parameters():\n",
        "#     param.requires_grad = False\n",
        "\n",
        "# model.conv5_3_1x1_down = nn.Conv2d(2048, 128, kernel_size=[1, 1], stride=(1, 1))\n",
        "# model.conv5_3_1x1_down_drop = nn.Dropout(p=0.5)\n",
        "# model.conv5_3_1x1_down_relu = nn.ReLU()\n",
        "# model.conv5_3_1x1_up = nn.Conv2d(128, 2048, kernel_size=[1, 1], stride=(1, 1))\n",
        "# model.conv5_3_1x1_up_drop = nn.Dropout(p=0.5)\n",
        "# model.conv5_3_prob = nn.Sigmoid()\n",
        "# model.conv5_3_relu = nn.ReLU()\n",
        "# model.pool5_7x7_s1 = nn.AvgPool2d(kernel_size=[7, 7], stride=[1, 1], padding=0)\n",
        "\n",
        "model.classifier= nn.Sequential(\n",
        "    nn.Conv2d(2048, 2048, kernel_size=[1, 1], stride=(1, 1)), \n",
        "    nn.BatchNorm2d(2048, eps=1e-05, momentum=0.1, affine=True, track_running_stats=True),\n",
        "    nn.ReLU(),\n",
        "    nn.Flatten(),\n",
        "    nn.Linear(2048, 4)\n",
        "    )\n",
        "\n",
        "model = model.to(device)"
      ],
      "execution_count": null,
      "outputs": []
    },
    {
      "cell_type": "code",
      "metadata": {
        "colab": {
          "base_uri": "https://localhost:8080/"
        },
        "id": "85NsipC9H37X",
        "outputId": "99c14273-afe9-48de-9743-dce87068e3d2"
      },
      "source": [
        "x = torch.randn(3, 3, 224, 224)\n",
        "x = x.to(device)\n",
        "y = model(x)\n",
        "print(y)"
      ],
      "execution_count": null,
      "outputs": [
        {
          "output_type": "stream",
          "text": [
            "tensor([[ 0.4273,  0.1529, -0.7831,  0.1764],\n",
            "        [-0.2304,  0.0271,  0.2598,  0.2986],\n",
            "        [ 0.0668, -0.0166,  0.4469,  0.5342]], device='cuda:0',\n",
            "       grad_fn=<AddmmBackward>)\n"
          ],
          "name": "stdout"
        }
      ]
    },
    {
      "cell_type": "markdown",
      "metadata": {
        "id": "Y2rXk8E2JQh4"
      },
      "source": [
        "### Train"
      ]
    },
    {
      "cell_type": "code",
      "metadata": {
        "id": "dqxH72KwGXnp"
      },
      "source": [
        "criterion = nn.CrossEntropyLoss()\n",
        "optimizer = optim.SGD(model.parameters(), lr=0.0001, momentum=0.9)\n",
        "scheduler = optim.lr_scheduler.StepLR(optimizer, step_size=5, gamma=0.1)"
      ],
      "execution_count": null,
      "outputs": []
    },
    {
      "cell_type": "code",
      "metadata": {
        "id": "io8BG_NnGtjQ",
        "colab": {
          "base_uri": "https://localhost:8080/"
        },
        "outputId": "343e2b26-c7c7-43c3-963c-cacc2d421b82"
      },
      "source": [
        "writer = SummaryWriter()\n",
        "writer.iteration, writer.interval = 0, 10\n",
        "\n",
        "metrics = {\n",
        "    'fps': BatchTimer(),\n",
        "    'acc': accuracy\n",
        "}\n",
        "\n",
        "print('\\n\\nInitial')\n",
        "print('-' * 10)\n",
        "model.eval()\n",
        "best_loss, met = pass_epoch(\n",
        "    model, criterion, val_loader,\n",
        "    batch_metrics=metrics, show_running=True, device=device,\n",
        "    writer=writer\n",
        ")\n",
        "best_acc = met['acc']\n",
        "best_weights = copy.deepcopy(model.state_dict())\n",
        "epochs = 30\n",
        "for epoch in range(epochs):\n",
        "    print('\\nEpoch {}/{}'.format(epoch + 1, epochs))\n",
        "    print('-' * 10)\n",
        "\n",
        "    model.train()\n",
        "    pass_epoch(\n",
        "        model, criterion, train_loader, optimizer, scheduler,\n",
        "        batch_metrics=metrics, show_running=True, device=device,\n",
        "        writer=writer\n",
        "    )\n",
        "\n",
        "    model.eval()\n",
        "    loss, mets = pass_epoch(\n",
        "        model, criterion, val_loader,\n",
        "        batch_metrics=metrics, show_running=True, device=device,\n",
        "        writer=writer\n",
        "    )\n",
        "    if mets['acc'] > best_acc:\n",
        "        best_acc = mets['acc']\n",
        "        best_weights = copy.deepcopy(model.state_dict())\n",
        "    if loss < best_loss:\n",
        "        best_loss = loss\n",
        "\n",
        "\n",
        "writer.close()\n",
        "model.load_state_dict(best_weights)\n",
        "print(\"best validation loss: \", best_loss)\n",
        "print(\"best validation accuracy: \", best_acc)"
      ],
      "execution_count": null,
      "outputs": [
        {
          "output_type": "stream",
          "text": [
            "\n",
            "\n",
            "Initial\n",
            "----------\n",
            "Valid |    63/63   | loss:    1.3864 | fps:  186.1510 | acc:    0.2495   \n",
            "\n",
            "Epoch 1/30\n",
            "----------\n",
            "Train |   625/625  | loss:    0.3353 | fps:   79.7153 | acc:    0.8791   \n",
            "Valid |    63/63   | loss:    0.3847 | fps:  186.5136 | acc:    0.8537   \n",
            "\n",
            "Epoch 2/30\n",
            "----------\n",
            "Train |   625/625  | loss:    0.1036 | fps:   79.8266 | acc:    0.9685   \n",
            "Valid |    63/63   | loss:    0.4945 | fps:  185.3223 | acc:    0.8457   \n",
            "\n",
            "Epoch 3/30\n",
            "----------\n",
            "Train |   625/625  | loss:    0.0321 | fps:   79.8736 | acc:    0.9923   \n",
            "Valid |    63/63   | loss:    0.5659 | fps:  185.4156 | acc:    0.8457   \n",
            "\n",
            "Epoch 4/30\n",
            "----------\n",
            "Train |   625/625  | loss:    0.0127 | fps:   79.8001 | acc:    0.9977   \n",
            "Valid |    63/63   | loss:    0.5782 | fps:  184.5201 | acc:    0.8532   \n",
            "\n",
            "Epoch 5/30\n",
            "----------\n",
            "Train |   625/625  | loss:    0.0046 | fps:   80.0100 | acc:    0.9995   \n",
            "Valid |    63/63   | loss:    0.5781 | fps:  185.9209 | acc:    0.8547   \n",
            "\n",
            "Epoch 6/30\n",
            "----------\n",
            "Train |   625/625  | loss:    0.0028 | fps:   79.9367 | acc:    0.9998   \n",
            "Valid |    63/63   | loss:    0.5798 | fps:  186.9006 | acc:    0.8562   \n",
            "\n",
            "Epoch 7/30\n",
            "----------\n",
            "Train |   625/625  | loss:    0.0023 | fps:   79.9858 | acc:    0.9999   \n",
            "Valid |    63/63   | loss:    0.5835 | fps:  186.9315 | acc:    0.8552   \n",
            "\n",
            "Epoch 8/30\n",
            "----------\n",
            "Train |   625/625  | loss:    0.0021 | fps:   80.0332 | acc:    1.0000   \n",
            "Valid |    63/63   | loss:    0.5868 | fps:  187.0274 | acc:    0.8557   \n",
            "\n",
            "Epoch 9/30\n",
            "----------\n",
            "Train |   625/625  | loss:    0.0020 | fps:   80.0421 | acc:    1.0000   \n",
            "Valid |    63/63   | loss:    0.5864 | fps:  187.3052 | acc:    0.8557   \n",
            "\n",
            "Epoch 10/30\n",
            "----------\n",
            "Train |   625/625  | loss:    0.0019 | fps:   79.9103 | acc:    1.0000   \n",
            "Valid |    63/63   | loss:    0.5911 | fps:  186.3462 | acc:    0.8552   \n",
            "\n",
            "Epoch 11/30\n",
            "----------\n",
            "Train |   625/625  | loss:    0.0019 | fps:   79.9426 | acc:    1.0000   \n",
            "Valid |    63/63   | loss:    0.5913 | fps:  185.4317 | acc:    0.8557   \n",
            "\n",
            "Epoch 12/30\n",
            "----------\n",
            "Train |   625/625  | loss:    0.0019 | fps:   79.9569 | acc:    1.0000   \n",
            "Valid |    63/63   | loss:    0.5908 | fps:  185.9354 | acc:    0.8552   \n",
            "\n",
            "Epoch 13/30\n",
            "----------\n",
            "Train |   625/625  | loss:    0.0019 | fps:   79.9565 | acc:    1.0000   \n",
            "Valid |    63/63   | loss:    0.5914 | fps:  185.7538 | acc:    0.8557   \n",
            "\n",
            "Epoch 14/30\n",
            "----------\n",
            "Train |   625/625  | loss:    0.0019 | fps:   80.0244 | acc:    1.0000   \n",
            "Valid |    63/63   | loss:    0.5902 | fps:  184.7995 | acc:    0.8557   \n",
            "\n",
            "Epoch 15/30\n",
            "----------\n",
            "Train |   625/625  | loss:    0.0019 | fps:   80.0118 | acc:    1.0000   \n",
            "Valid |    63/63   | loss:    0.5915 | fps:  185.5500 | acc:    0.8552   \n",
            "\n",
            "Epoch 16/30\n",
            "----------\n",
            "Train |   625/625  | loss:    0.0018 | fps:   79.9988 | acc:    1.0000   \n",
            "Valid |    63/63   | loss:    0.5908 | fps:  186.6447 | acc:    0.8552   \n",
            "\n",
            "Epoch 17/30\n",
            "----------\n",
            "Train |   625/625  | loss:    0.0019 | fps:   79.9879 | acc:    1.0000   \n",
            "Valid |    63/63   | loss:    0.5902 | fps:  183.8086 | acc:    0.8552   \n",
            "\n",
            "Epoch 18/30\n",
            "----------\n",
            "Train |   625/625  | loss:    0.0018 | fps:   79.5901 | acc:    1.0000   \n",
            "Valid |    63/63   | loss:    0.5913 | fps:  184.5464 | acc:    0.8557   \n",
            "\n",
            "Epoch 19/30\n",
            "----------\n",
            "Train |   625/625  | loss:    0.0019 | fps:   79.5041 | acc:    1.0000   \n",
            "Valid |    63/63   | loss:    0.5919 | fps:  184.3339 | acc:    0.8552   \n",
            "\n",
            "Epoch 20/30\n",
            "----------\n",
            "Train |   625/625  | loss:    0.0018 | fps:   79.7423 | acc:    1.0000   \n",
            "Valid |    63/63   | loss:    0.5902 | fps:  186.7859 | acc:    0.8552   \n",
            "\n",
            "Epoch 21/30\n",
            "----------\n",
            "Train |   625/625  | loss:    0.0019 | fps:   79.8952 | acc:    1.0000   \n",
            "Valid |    63/63   | loss:    0.5904 | fps:  186.4509 | acc:    0.8557   \n",
            "\n",
            "Epoch 22/30\n",
            "----------\n",
            "Train |   625/625  | loss:    0.0018 | fps:   79.8169 | acc:    1.0000   \n",
            "Valid |    63/63   | loss:    0.5925 | fps:  185.8723 | acc:    0.8557   \n",
            "\n",
            "Epoch 23/30\n",
            "----------\n",
            "Train |   625/625  | loss:    0.0019 | fps:   79.9379 | acc:    1.0000   \n",
            "Valid |    63/63   | loss:    0.5899 | fps:  187.3304 | acc:    0.8552   \n",
            "\n",
            "Epoch 24/30\n",
            "----------\n",
            "Train |   625/625  | loss:    0.0018 | fps:   79.9668 | acc:    1.0000   \n",
            "Valid |    63/63   | loss:    0.5908 | fps:  184.4559 | acc:    0.8552   \n",
            "\n",
            "Epoch 25/30\n",
            "----------\n",
            "Train |   625/625  | loss:    0.0019 | fps:   79.8055 | acc:    1.0000   \n",
            "Valid |    63/63   | loss:    0.5903 | fps:  184.5181 | acc:    0.8552   \n",
            "\n",
            "Epoch 26/30\n",
            "----------\n",
            "Train |   625/625  | loss:    0.0018 | fps:   79.6729 | acc:    1.0000   \n",
            "Valid |    63/63   | loss:    0.5916 | fps:  184.6212 | acc:    0.8557   \n",
            "\n",
            "Epoch 27/30\n",
            "----------\n",
            "Train |   625/625  | loss:    0.0019 | fps:   79.8764 | acc:    1.0000   \n",
            "Valid |    63/63   | loss:    0.5903 | fps:  186.8660 | acc:    0.8552   \n",
            "\n",
            "Epoch 28/30\n",
            "----------\n",
            "Train |   625/625  | loss:    0.0018 | fps:   80.1741 | acc:    1.0000   \n",
            "Valid |    63/63   | loss:    0.5908 | fps:  187.4369 | acc:    0.8552   \n",
            "\n",
            "Epoch 29/30\n",
            "----------\n",
            "Train |   625/625  | loss:    0.0018 | fps:   80.1907 | acc:    1.0000   \n",
            "Valid |    63/63   | loss:    0.5931 | fps:  187.7150 | acc:    0.8557   \n",
            "\n",
            "Epoch 30/30\n",
            "----------\n",
            "Train |   625/625  | loss:    0.0019 | fps:   80.1591 | acc:    1.0000   \n",
            "Valid |    63/63   | loss:    0.5934 | fps:  185.9462 | acc:    0.8557   \n",
            "best validation loss:  tensor(0.3847)\n",
            "best validation accuracy:  tensor(0.8562)\n"
          ],
          "name": "stdout"
        }
      ]
    },
    {
      "cell_type": "markdown",
      "metadata": {
        "id": "nbsgtpP6JOQy"
      },
      "source": [
        "### Test"
      ]
    },
    {
      "cell_type": "code",
      "metadata": {
        "id": "4DU_sCTxJN-c",
        "colab": {
          "base_uri": "https://localhost:8080/"
        },
        "outputId": "b5cd0c94-6b97-4073-87d3-b83d55c526c6"
      },
      "source": [
        "test_loss = 0\n",
        "acc = 0\n",
        "model.eval()\n",
        "start = time.time()\n",
        "with torch.no_grad():\n",
        "  for inputs, labels in test_loader:\n",
        "    inputs, labels = inputs.to(device), labels.to(device)\n",
        "    logps = model.forward(inputs)\n",
        "    batch_loss = criterion(logps, labels)\n",
        "    test_loss += batch_loss.item()\n",
        "                    \n",
        "    ps = torch.exp(logps)\n",
        "    top_p, top_class = ps.topk(1, dim=1)\n",
        "    equals = top_class == labels.view(*top_class.shape)\n",
        "    acc += torch.mean(equals.type(torch.FloatTensor)).item()\n",
        "per_image = (time.time()-start)/len(test_loader)                   \n",
        "print(f\"Test loss: {test_loss/len(test_loader):.4f}.. \"\n",
        "      f\"Test accuracy: {acc/len(test_loader):.4f}\")\n",
        "\n",
        "print(f\"Time per frame: {per_image}\")\n",
        "\n"
      ],
      "execution_count": null,
      "outputs": [
        {
          "output_type": "stream",
          "text": [
            "Test loss: 0.7766.. Test accuracy: 0.8292\n",
            "Time per frame: 0.16740637166159494\n"
          ],
          "name": "stdout"
        }
      ]
    },
    {
      "cell_type": "markdown",
      "metadata": {
        "id": "q1Z4-DZdCUhe"
      },
      "source": [
        "### Saving the model state"
      ]
    },
    {
      "cell_type": "code",
      "metadata": {
        "id": "rB8QOkN5CUJP"
      },
      "source": [
        "checkpoint = {'state_dict': model.state_dict()}\n",
        "\n",
        "torch.save(checkpoint, 'SE_net_fin2.pth')"
      ],
      "execution_count": null,
      "outputs": []
    },
    {
      "cell_type": "code",
      "metadata": {
        "colab": {
          "base_uri": "https://localhost:8080/",
          "height": 34
        },
        "id": "pufw5MlzdE0n",
        "outputId": "b2f3a7e7-a3f2-4f6c-d833-fd6ab06d249e"
      },
      "source": [
        "from google.colab import files\n",
        "files.download(\"SE_net_fin2.pth\")"
      ],
      "execution_count": null,
      "outputs": [
        {
          "output_type": "display_data",
          "data": {
            "application/javascript": [
              "\n",
              "    async function download(id, filename, size) {\n",
              "      if (!google.colab.kernel.accessAllowed) {\n",
              "        return;\n",
              "      }\n",
              "      const div = document.createElement('div');\n",
              "      const label = document.createElement('label');\n",
              "      label.textContent = `Downloading \"${filename}\": `;\n",
              "      div.appendChild(label);\n",
              "      const progress = document.createElement('progress');\n",
              "      progress.max = size;\n",
              "      div.appendChild(progress);\n",
              "      document.body.appendChild(div);\n",
              "\n",
              "      const buffers = [];\n",
              "      let downloaded = 0;\n",
              "\n",
              "      const channel = await google.colab.kernel.comms.open(id);\n",
              "      // Send a message to notify the kernel that we're ready.\n",
              "      channel.send({})\n",
              "\n",
              "      for await (const message of channel.messages) {\n",
              "        // Send a message to notify the kernel that we're ready.\n",
              "        channel.send({})\n",
              "        if (message.buffers) {\n",
              "          for (const buffer of message.buffers) {\n",
              "            buffers.push(buffer);\n",
              "            downloaded += buffer.byteLength;\n",
              "            progress.value = downloaded;\n",
              "          }\n",
              "        }\n",
              "      }\n",
              "      const blob = new Blob(buffers, {type: 'application/binary'});\n",
              "      const a = document.createElement('a');\n",
              "      a.href = window.URL.createObjectURL(blob);\n",
              "      a.download = filename;\n",
              "      div.appendChild(a);\n",
              "      a.click();\n",
              "      div.remove();\n",
              "    }\n",
              "  "
            ],
            "text/plain": [
              "<IPython.core.display.Javascript object>"
            ]
          },
          "metadata": {
            "tags": []
          }
        },
        {
          "output_type": "display_data",
          "data": {
            "application/javascript": [
              "download(\"download_fcadd727-a57b-4c83-bd02-f2b22c1e972a\", \"SE_net_fin2.pth\", 121361902)"
            ],
            "text/plain": [
              "<IPython.core.display.Javascript object>"
            ]
          },
          "metadata": {
            "tags": []
          }
        }
      ]
    },
    {
      "cell_type": "markdown",
      "metadata": {
        "id": "o626AlcObksX"
      },
      "source": [
        "#TEST"
      ]
    },
    {
      "cell_type": "code",
      "metadata": {
        "id": "xGgZJAPebm5e"
      },
      "source": [
        "batch_size = 32\n",
        "fer_test = FER2013Dataset(csv_file='/content/drive/MyDrive/fer2013p/test_b.csv', transform=data_transforms)\n",
        "\n",
        "test_loader = torch.utils.data.DataLoader(fer_test, batch_size=batch_size)\n",
        "\n",
        "class_names = {0: 'Pleasant-Active',\n",
        "               1: 'Unpleasant-Active',\n",
        "               2: 'Unpleasant-Unactive',\n",
        "               3: 'Pleasant-Unactive'}"
      ],
      "execution_count": null,
      "outputs": []
    },
    {
      "cell_type": "code",
      "metadata": {
        "id": "TVmMfzOEbviA"
      },
      "source": [
        "model = senet50_ferplus_dag()\n",
        "model.classifier= nn.Sequential(\n",
        "    nn.Conv2d(2048, 2048, kernel_size=[1, 1], stride=(1, 1)), \n",
        "    nn.BatchNorm2d(2048, eps=1e-05, momentum=0.1, affine=True, track_running_stats=True),\n",
        "    nn.ReLU(),\n",
        "    nn.Flatten(),\n",
        "    nn.Linear(2048, 4)\n",
        "    )\n",
        "\n",
        "st = torch.load('/content/drive/MyDrive/Models FER2013+/SE_net_fin2.pth')\n",
        "model.load_state_dict(st['state_dict'])\n",
        "\n",
        "model = model.to(device)"
      ],
      "execution_count": null,
      "outputs": []
    },
    {
      "cell_type": "code",
      "metadata": {
        "id": "nG1NHeh5b_4J",
        "colab": {
          "base_uri": "https://localhost:8080/"
        },
        "outputId": "cc43392e-9215-454f-fbeb-955295922aa5"
      },
      "source": [
        "criterion = nn.CrossEntropyLoss()\n",
        "writer = SummaryWriter()\n",
        "writer.iteration, writer.interval = 0, 10\n",
        "\n",
        "metrics = {\n",
        "    'fps': BatchTimer(),\n",
        "    'acc': accuracy\n",
        "}\n",
        "\n",
        "print('\\n\\nInitial')\n",
        "print('-' * 10)\n",
        "model.eval()\n",
        "best_loss, met = pass_epoch(\n",
        "    model, criterion, test_loader,\n",
        "    batch_metrics=metrics, show_running=True, device=device,\n",
        "    writer=writer\n",
        ")"
      ],
      "execution_count": null,
      "outputs": [
        {
          "output_type": "stream",
          "text": [
            "\n",
            "\n",
            "Initial\n",
            "----------\n",
            "Valid |    56/56   | loss:    0.7766 | fps:  183.1496 | acc:    0.8292   \n"
          ],
          "name": "stdout"
        }
      ]
    },
    {
      "cell_type": "code",
      "metadata": {
        "id": "SZCo497lcHIT",
        "colab": {
          "base_uri": "https://localhost:8080/"
        },
        "outputId": "e82e1f9e-84af-426c-c0fa-6c004ac0d86c"
      },
      "source": [
        "from sklearn import metrics as m\n",
        "\n",
        "model.eval()\n",
        "outputs_all = []\n",
        "labels_all = []\n",
        "outs = []\n",
        "with torch.no_grad():\n",
        "  for inputs, labels in test_loader:\n",
        "    inputs, labels = inputs.to(device), labels.to(device)\n",
        "    logps = model.forward(inputs)\n",
        "    ps = torch.exp(logps)\n",
        "    top_p, top_class = ps.topk(1, dim=1)\n",
        "    labels_all = labels_all + labels.tolist()\n",
        "    outputs_all = outputs_all + top_class.tolist()\n",
        "    outs = outs + logps.tolist()\n",
        "    \n",
        "report = m.classification_report(labels_all,outputs_all)\n",
        "cm = m.confusion_matrix(labels_all,outputs_all)\n",
        "\n",
        "print(report)\n",
        "print(cm)"
      ],
      "execution_count": null,
      "outputs": [
        {
          "output_type": "stream",
          "text": [
            "              precision    recall  f1-score   support\n",
            "\n",
            "           0       0.89      0.90      0.90       441\n",
            "           1       0.87      0.83      0.85       441\n",
            "           2       0.82      0.74      0.78       441\n",
            "           3       0.75      0.86      0.80       441\n",
            "\n",
            "    accuracy                           0.83      1764\n",
            "   macro avg       0.83      0.83      0.83      1764\n",
            "weighted avg       0.83      0.83      0.83      1764\n",
            "\n",
            "[[396  19   5  21]\n",
            " [ 26 364  23  28]\n",
            " [  6  33 325  77]\n",
            " [ 15   4  42 380]]\n"
          ],
          "name": "stdout"
        }
      ]
    }
  ]
}