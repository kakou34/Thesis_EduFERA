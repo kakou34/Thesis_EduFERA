{
  "nbformat": 4,
  "nbformat_minor": 0,
  "metadata": {
    "colab": {
      "name": "FER2013_VGG_FER_pretrained.ipynb",
      "provenance": [],
      "collapsed_sections": [
        "oWT-EE27TXFl",
        "ZyIFQxzDXUXh",
        "eh9kJRzMqxcn"
      ],
      "toc_visible": true
    },
    "kernelspec": {
      "name": "python3",
      "display_name": "Python 3"
    },
    "language_info": {
      "name": "python"
    },
    "accelerator": "GPU"
  },
  "cells": [
    {
      "cell_type": "markdown",
      "metadata": {
        "id": "oWT-EE27TXFl"
      },
      "source": [
        "# Imports"
      ]
    },
    {
      "cell_type": "code",
      "metadata": {
        "colab": {
          "base_uri": "https://localhost:8080/"
        },
        "id": "U-CGBUMSSm5N",
        "outputId": "d94c439c-9cb8-49bc-d661-3eb4d5429c4e"
      },
      "source": [
        "from __future__ import print_function, division\n",
        "import os\n",
        "import torch\n",
        "import pandas as pd\n",
        "import numpy as np\n",
        "import matplotlib.pyplot as plt\n",
        "from torch.utils.data import Dataset, DataLoader\n",
        "from torchvision import transforms, utils, models\n",
        "import torch.optim as optim\n",
        "import torch.nn as nn\n",
        "from torch.optim.lr_scheduler import MultiStepLR\n",
        "from torch.utils.tensorboard import SummaryWriter\n",
        "from PIL import Image\n",
        "import time\n",
        "import copy\n",
        "\n",
        "# Ignore warnings\n",
        "import warnings\n",
        "warnings.filterwarnings(\"ignore\")\n",
        "\n",
        "plt.ion()   # interactive mode\n",
        "\n",
        "device = torch.device(\"cuda:0\" if torch.cuda.is_available() else \"cpu\")\n",
        "\n",
        "print(device)"
      ],
      "execution_count": null,
      "outputs": [
        {
          "output_type": "stream",
          "text": [
            "cuda:0\n"
          ],
          "name": "stdout"
        }
      ]
    },
    {
      "cell_type": "markdown",
      "metadata": {
        "id": "T4ba0f6XTcB4"
      },
      "source": [
        "# File upload"
      ]
    },
    {
      "cell_type": "code",
      "metadata": {
        "colab": {
          "base_uri": "https://localhost:8080/"
        },
        "id": "2mDi2Hjx90gp",
        "outputId": "00c5ef71-8bfb-4307-bf19-2a832c97c788"
      },
      "source": [
        "from google.colab import drive\n",
        "drive.mount('/content/drive')"
      ],
      "execution_count": null,
      "outputs": [
        {
          "output_type": "stream",
          "text": [
            "Mounted at /content/drive\n"
          ],
          "name": "stdout"
        }
      ]
    },
    {
      "cell_type": "markdown",
      "metadata": {
        "id": "DHZo4eyzWRba"
      },
      "source": [
        "#Creating and Importing the dataset"
      ]
    },
    {
      "cell_type": "code",
      "metadata": {
        "id": "-5ePR3o20w9a"
      },
      "source": [
        "class FER2013Dataset(Dataset):\n",
        "    \"\"\"FER2013+ dataset.\"\"\"\n",
        "\n",
        "    def __init__(self, csv_file, transform=None):\n",
        "        \"\"\"\n",
        "        Args:\n",
        "            csv_file (string): Path to the csv file with annotations.\n",
        "            transform (callable, optional): Optional transform to be applied\n",
        "                on a sample.\n",
        "        \"\"\"\n",
        "        self.annotations_csv = pd.read_csv(csv_file)\n",
        "        self.transform = transform\n",
        "\n",
        "    def __len__(self):\n",
        "        return len(self.annotations_csv)\n",
        "\n",
        "    def __getitem__(self, idx):\n",
        "        if torch.is_tensor(idx):\n",
        "            idx = idx.tolist()\n",
        "\n",
        "        pixels = self.annotations_csv.iloc[idx]['pixels'].split()\n",
        "        pixels = np.array(pixels, dtype=np.uint8)\n",
        "        image = Image.fromarray(pixels.reshape(48,48), 'L')\n",
        "        label = self.annotations_csv.iloc[idx]['class']\n",
        "\n",
        "        if self.transform:\n",
        "            image = self.transform(image)\n",
        "        image= image.float()\n",
        "\n",
        "        return image, label"
      ],
      "execution_count": null,
      "outputs": []
    },
    {
      "cell_type": "markdown",
      "metadata": {
        "id": "1orFByfyW5_L"
      },
      "source": [
        "Data Transforms"
      ]
    },
    {
      "cell_type": "code",
      "metadata": {
        "id": "ZzZSDVChY01e"
      },
      "source": [
        "data_transforms = transforms.Compose([\n",
        "        transforms.Grayscale(3),                              \n",
        "        transforms.Resize(230),\n",
        "        transforms.CenterCrop(224),\n",
        "        transforms.ToTensor(),\n",
        "        transforms.Normalize([0.5, 0.5, 0.5], [0.5, 0.5, 0.5])\n",
        "    ])"
      ],
      "execution_count": null,
      "outputs": []
    },
    {
      "cell_type": "markdown",
      "metadata": {
        "id": "4hg-5ObpGlSt"
      },
      "source": [
        "2. Loading and splitting the data"
      ]
    },
    {
      "cell_type": "code",
      "metadata": {
        "id": "6BGuAtEnPqG4"
      },
      "source": [
        "batch_size = 64\n",
        "fer_train = FER2013Dataset(csv_file='/content/drive/MyDrive/fer2013p/train_b.csv', transform=data_transforms)\n",
        "fer_val = FER2013Dataset(csv_file='/content/drive/MyDrive/fer2013p/valid_b.csv', transform=data_transforms)\n",
        "fer_test = FER2013Dataset(csv_file='/content/drive/MyDrive/fer2013p/test_b.csv', transform=data_transforms)\n",
        "\n",
        "dataset_sizes = {'train': len(fer_train), 'val': len(fer_val), 'test': len(fer_test) }\n",
        "\n",
        "train_loader = torch.utils.data.DataLoader(fer_train, batch_size=batch_size)\n",
        "val_loader = torch.utils.data.DataLoader(fer_val, batch_size=batch_size)\n",
        "test_loader = torch.utils.data.DataLoader(fer_test, batch_size=batch_size)\n",
        "\n",
        "class_names = {0: 'Pleasant-Active',\n",
        "               1: 'Unpleasant-Active',\n",
        "               2: 'Unpleasant-Unactive',\n",
        "               3: 'Pleasant-Unactive'}"
      ],
      "execution_count": null,
      "outputs": []
    },
    {
      "cell_type": "markdown",
      "metadata": {
        "id": "Xwp-k18cJazf"
      },
      "source": [
        "Show a batch of images"
      ]
    },
    {
      "cell_type": "code",
      "metadata": {
        "id": "QsWl3jTmi8pJ"
      },
      "source": [
        "def imshow(inp, title=None):\n",
        "    \"\"\"Imshow for Tensor.\"\"\"\n",
        "    inp = inp.numpy().transpose((1, 2, 0))\n",
        "    mean = np.array([0.485,])\n",
        "    std = np.array([0.229,])\n",
        "    inp = std * inp + mean\n",
        "    inp = np.clip(inp, 0, 1)\n",
        "    plt.imshow(inp)\n",
        "    if title is not None:\n",
        "        plt.title(title)\n",
        "    plt.pause(0.001)  # pause a bit so that plots are updated"
      ],
      "execution_count": null,
      "outputs": []
    },
    {
      "cell_type": "code",
      "metadata": {
        "id": "QoJCR50-Jepi",
        "colab": {
          "base_uri": "https://localhost:8080/",
          "height": 269
        },
        "outputId": "2ae50ebf-4829-4ae8-9f23-3701b2b528f9"
      },
      "source": [
        "# Get a batch of training data\n",
        "inputs, labels = next(iter(train_loader))\n",
        "\n",
        "\n",
        "# Make a grid from batch\n",
        "out = utils.make_grid(inputs)\n",
        "\n",
        "imshow(out)\n"
      ],
      "execution_count": null,
      "outputs": [
        {
          "output_type": "display_data",
          "data": {
            "image/png": "[encoded data removed]",
            "text/plain": [
              "<Figure size 432x288 with 1 Axes>"
            ]
          },
          "metadata": {
            "tags": [],
            "needs_background": "light"
          }
        }
      ]
    },
    {
      "cell_type": "markdown",
      "metadata": {
        "id": "ZM9PfnMu4GpD"
      },
      "source": [
        "# The Model"
      ]
    },
    {
      "cell_type": "markdown",
      "metadata": {
        "id": "ZyIFQxzDXUXh"
      },
      "source": [
        "## As feature extractor"
      ]
    },
    {
      "cell_type": "code",
      "metadata": {
        "id": "1c4mROYGdiBZ"
      },
      "source": [
        "model = vgg_vd_face_fer_dag(weights_path='/content/drive/MyDrive/models/vgg_vd_face_fer_dag.pth')\n",
        "for param in model.parameters():\n",
        "    param.requires_grad = False\n",
        "\n",
        "model.conv5_3 = nn.Conv2d(512, 512, kernel_size=[3, 3], stride=(1, 1), padding=(1, 1))\n",
        "model.relu5_3 = nn.ReLU()\n",
        "model.pool5 = nn.MaxPool2d(kernel_size=[2, 2], stride=[2, 2], padding=0, dilation=1, ceil_mode=False)\n",
        "model.fc6 = nn.Conv2d(512, 4096, kernel_size=[7, 7], stride=(1, 1))\n",
        "model.relu6 = nn.ReLU()\n",
        "model.fc7 = nn.Linear(in_features=4096, out_features=4096, bias=True)\n",
        "model.relu7 = nn.ReLU()\n",
        "model.fc8 = nn.Linear(in_features=4096, out_features=4, bias=True)\n",
        "\n",
        "model = model.to(device)"
      ],
      "execution_count": null,
      "outputs": []
    },
    {
      "cell_type": "markdown",
      "metadata": {
        "id": "kCr6CcrA4Vq6"
      },
      "source": [
        "### Training"
      ]
    },
    {
      "cell_type": "code",
      "metadata": {
        "id": "OEHYx4Bvadw7"
      },
      "source": [
        "criterion = nn.CrossEntropyLoss()\n",
        "optimizer = optim.SGD(model.parameters(), lr=0.001, momentum=0.9)\n",
        "scheduler = optim.lr_scheduler.StepLR(optimizer, step_size=5, gamma=0.1)"
      ],
      "execution_count": null,
      "outputs": []
    },
    {
      "cell_type": "code",
      "metadata": {
        "colab": {
          "base_uri": "https://localhost:8080/"
        },
        "id": "codcUYDkgTyQ",
        "outputId": "be579316-16e7-42fe-aefc-414d6f91a8e7"
      },
      "source": [
        "writer = SummaryWriter()\n",
        "writer.iteration, writer.interval = 0, 10\n",
        "\n",
        "metrics = {\n",
        "    'fps': BatchTimer(),\n",
        "    'acc': accuracy\n",
        "}\n",
        "\n",
        "print('\\n\\nInitial')\n",
        "print('-' * 10)\n",
        "model.eval()\n",
        "best_loss, met = pass_epoch(\n",
        "    model, criterion, val_loader,\n",
        "    batch_metrics=metrics, show_running=True, device=device,\n",
        "    writer=writer\n",
        ")\n",
        "best_acc = met['acc']\n",
        "best_weights = copy.deepcopy(model.state_dict())\n",
        "epochs = 30\n",
        "for epoch in range(epochs):\n",
        "    print('\\nEpoch {}/{}'.format(epoch + 1, epochs))\n",
        "    print('-' * 10)\n",
        "\n",
        "    model.train()\n",
        "    pass_epoch(\n",
        "        model, criterion, train_loader, optimizer, scheduler,\n",
        "        batch_metrics=metrics, show_running=True, device=device,\n",
        "        writer=writer\n",
        "    )\n",
        "\n",
        "    model.eval()\n",
        "    loss, mets = pass_epoch(\n",
        "        model, criterion, val_loader,\n",
        "        batch_metrics=metrics, show_running=True, device=device,\n",
        "        writer=writer\n",
        "    )\n",
        "    if mets['acc'] > best_acc:\n",
        "        best_acc = mets['acc']\n",
        "        best_weights = copy.deepcopy(model.state_dict())\n",
        "    if loss < best_loss:\n",
        "        best_loss = loss\n",
        "\n",
        "\n",
        "writer.close()\n",
        "model.load_state_dict(best_weights)\n",
        "print(\"best validation loss: \", best_loss)\n",
        "print(\"best validation accuracy: \", best_acc)"
      ],
      "execution_count": null,
      "outputs": [
        {
          "output_type": "stream",
          "text": [
            "\n",
            "\n",
            "Initial\n",
            "----------\n",
            "Valid |    63/63   | loss:    1.3861 | fps:  147.8157 | acc:    0.2629   \n",
            "\n",
            "Epoch 1/30\n",
            "----------\n",
            "Train |   625/625  | loss:    1.3747 | fps:   80.8975 | acc:    0.3660   \n",
            "Valid |    63/63   | loss:    1.3535 | fps:  141.4468 | acc:    0.4851   \n",
            "\n",
            "Epoch 2/30\n",
            "----------\n",
            "Train |   625/625  | loss:    1.2001 | fps:   79.7227 | acc:    0.5649   \n",
            "Valid |    63/63   | loss:    0.9428 | fps:  141.3900 | acc:    0.6453   \n",
            "\n",
            "Epoch 3/30\n",
            "----------\n",
            "Train |   625/625  | loss:    0.7695 | fps:   79.4056 | acc:    0.6892   \n",
            "Valid |    63/63   | loss:    0.6819 | fps:  139.8718 | acc:    0.7307   \n",
            "\n",
            "Epoch 4/30\n",
            "----------\n",
            "Train |   625/625  | loss:    0.6015 | fps:   78.9744 | acc:    0.7645   \n",
            "Valid |    63/63   | loss:    0.6187 | fps:  139.6057 | acc:    0.7490   \n",
            "\n",
            "Epoch 5/30\n",
            "----------\n",
            "Train |   625/625  | loss:    0.5053 | fps:   78.9628 | acc:    0.8101   \n",
            "Valid |    63/63   | loss:    0.5981 | fps:  139.4846 | acc:    0.7560   \n",
            "\n",
            "Epoch 6/30\n",
            "----------\n",
            "Train |   625/625  | loss:    0.4253 | fps:   79.0823 | acc:    0.8478   \n",
            "Valid |    63/63   | loss:    0.5822 | fps:  140.7695 | acc:    0.7768   \n",
            "\n",
            "Epoch 7/30\n",
            "----------\n",
            "Train |   625/625  | loss:    0.4148 | fps:   79.5779 | acc:    0.8522   \n",
            "Valid |    63/63   | loss:    0.5804 | fps:  140.6553 | acc:    0.7753   \n",
            "\n",
            "Epoch 8/30\n",
            "----------\n",
            "Train |   625/625  | loss:    0.4052 | fps:   79.4856 | acc:    0.8564   \n",
            "Valid |    63/63   | loss:    0.5791 | fps:  140.7105 | acc:    0.7743   \n",
            "\n",
            "Epoch 9/30\n",
            "----------\n",
            "Train |   625/625  | loss:    0.3958 | fps:   79.4022 | acc:    0.8605   \n",
            "Valid |    63/63   | loss:    0.5781 | fps:  139.4668 | acc:    0.7748   \n",
            "\n",
            "Epoch 10/30\n",
            "----------\n",
            "Train |   625/625  | loss:    0.3866 | fps:   79.0102 | acc:    0.8648   \n",
            "Valid |    63/63   | loss:    0.5773 | fps:  138.8243 | acc:    0.7748   \n",
            "\n",
            "Epoch 11/30\n",
            "----------\n",
            "Train |   625/625  | loss:    0.3771 | fps:   79.0159 | acc:    0.8690   \n",
            "Valid |    63/63   | loss:    0.5788 | fps:  139.8051 | acc:    0.7718   \n",
            "\n",
            "Epoch 12/30\n",
            "----------\n",
            "Train |   625/625  | loss:    0.3761 | fps:   79.1015 | acc:    0.8691   \n",
            "Valid |    63/63   | loss:    0.5787 | fps:  140.2966 | acc:    0.7718   \n",
            "\n",
            "Epoch 13/30\n",
            "----------\n",
            "Train |   625/625  | loss:    0.3752 | fps:   79.2144 | acc:    0.8694   \n",
            "Valid |    63/63   | loss:    0.5786 | fps:  141.2321 | acc:    0.7723   \n",
            "\n",
            "Epoch 14/30\n",
            "----------\n",
            "Train |   625/625  | loss:    0.3742 | fps:   79.7009 | acc:    0.8699   \n",
            "Valid |    63/63   | loss:    0.5786 | fps:  140.5871 | acc:    0.7723   \n",
            "\n",
            "Epoch 15/30\n",
            "----------\n",
            "Train |   625/625  | loss:    0.3733 | fps:   79.7138 | acc:    0.8702   \n",
            "Valid |    63/63   | loss:    0.5785 | fps:  141.2354 | acc:    0.7728   \n",
            "\n",
            "Epoch 16/30\n",
            "----------\n",
            "Train |   625/625  | loss:    0.3723 | fps:   79.7926 | acc:    0.8704   \n",
            "Valid |    63/63   | loss:    0.5786 | fps:  140.7510 | acc:    0.7733   \n",
            "\n",
            "Epoch 17/30\n",
            "----------\n",
            "Train |   625/625  | loss:    0.3722 | fps:   79.4622 | acc:    0.8704   \n",
            "Valid |    63/63   | loss:    0.5786 | fps:  140.9253 | acc:    0.7733   \n",
            "\n",
            "Epoch 18/30\n",
            "----------\n",
            "Train |   625/625  | loss:    0.3721 | fps:   79.2308 | acc:    0.8705   \n",
            "Valid |    63/63   | loss:    0.5786 | fps:  140.3712 | acc:    0.7733   \n",
            "\n",
            "Epoch 19/30\n",
            "----------\n",
            "Train |   625/625  | loss:    0.3720 | fps:   79.2086 | acc:    0.8705   \n",
            "Valid |    63/63   | loss:    0.5786 | fps:  140.0158 | acc:    0.7733   \n",
            "\n",
            "Epoch 20/30\n",
            "----------\n",
            "Train |   625/625  | loss:    0.3719 | fps:   79.4462 | acc:    0.8706   \n",
            "Valid |    63/63   | loss:    0.5786 | fps:  141.2350 | acc:    0.7733   \n",
            "\n",
            "Epoch 21/30\n",
            "----------\n",
            "Train |   625/625  | loss:    0.3718 | fps:   79.7191 | acc:    0.8708   \n",
            "Valid |    63/63   | loss:    0.5786 | fps:  142.2454 | acc:    0.7733   \n",
            "\n",
            "Epoch 22/30\n",
            "----------\n",
            "Train |   625/625  | loss:    0.3718 | fps:   79.6545 | acc:    0.8708   \n",
            "Valid |    63/63   | loss:    0.5786 | fps:  141.0741 | acc:    0.7733   \n",
            "\n",
            "Epoch 23/30\n",
            "----------\n",
            "Train |   625/625  | loss:    0.3717 | fps:   79.5050 | acc:    0.8708   \n",
            "Valid |    63/63   | loss:    0.5786 | fps:  140.7634 | acc:    0.7733   \n",
            "\n",
            "Epoch 24/30\n",
            "----------\n",
            "Train |   625/625  | loss:    0.3717 | fps:   79.1180 | acc:    0.8708   \n",
            "Valid |    63/63   | loss:    0.5786 | fps:  139.6868 | acc:    0.7733   \n",
            "\n",
            "Epoch 25/30\n",
            "----------\n",
            "Train |   625/625  | loss:    0.3717 | fps:   78.8600 | acc:    0.8708   \n",
            "Valid |    63/63   | loss:    0.5786 | fps:  137.4046 | acc:    0.7733   \n",
            "\n",
            "Epoch 26/30\n",
            "----------\n",
            "Train |   625/625  | loss:    0.3717 | fps:   78.8459 | acc:    0.8708   \n",
            "Valid |    63/63   | loss:    0.5786 | fps:  140.1983 | acc:    0.7733   \n",
            "\n",
            "Epoch 27/30\n",
            "----------\n",
            "Train |   625/625  | loss:    0.3717 | fps:   79.2500 | acc:    0.8708   \n",
            "Valid |    63/63   | loss:    0.5786 | fps:  140.7548 | acc:    0.7733   \n",
            "\n",
            "Epoch 28/30\n",
            "----------\n",
            "Train |   625/625  | loss:    0.3717 | fps:   79.1423 | acc:    0.8708   \n",
            "Valid |    63/63   | loss:    0.5786 | fps:  140.1602 | acc:    0.7733   \n",
            "\n",
            "Epoch 29/30\n",
            "----------\n",
            "Train |   625/625  | loss:    0.3717 | fps:   79.1865 | acc:    0.8708   \n",
            "Valid |    63/63   | loss:    0.5786 | fps:  140.4787 | acc:    0.7733   \n",
            "\n",
            "Epoch 30/30\n",
            "----------\n",
            "Train |   625/625  | loss:    0.3717 | fps:   79.1027 | acc:    0.8708   \n",
            "Valid |    63/63   | loss:    0.5786 | fps:  140.6020 | acc:    0.7733   \n",
            "best validation loss:  tensor(0.5773)\n",
            "best validation accuracy:  tensor(0.7768)\n"
          ],
          "name": "stdout"
        }
      ]
    },
    {
      "cell_type": "markdown",
      "metadata": {
        "id": "iiGfc6Ju4unU"
      },
      "source": [
        "### Saving the model"
      ]
    },
    {
      "cell_type": "code",
      "metadata": {
        "id": "D4WlAOFhneCy"
      },
      "source": [
        "checkpoint = {'state_dict': model.state_dict()}\n",
        "torch.save(checkpoint, 'vgg16.pth')"
      ],
      "execution_count": null,
      "outputs": []
    },
    {
      "cell_type": "code",
      "metadata": {
        "colab": {
          "base_uri": "https://localhost:8080/",
          "height": 34
        },
        "id": "e21GMo7HdKWt",
        "outputId": "82f22b19-e0b8-4525-9146-72185264a1a4"
      },
      "source": [
        "from google.colab import files\n",
        "files.download(\"vgg16.pth\")"
      ],
      "execution_count": null,
      "outputs": [
        {
          "output_type": "display_data",
          "data": {
            "application/javascript": [
              "\n",
              "    async function download(id, filename, size) {\n",
              "      if (!google.colab.kernel.accessAllowed) {\n",
              "        return;\n",
              "      }\n",
              "      const div = document.createElement('div');\n",
              "      const label = document.createElement('label');\n",
              "      label.textContent = `Downloading \"${filename}\": `;\n",
              "      div.appendChild(label);\n",
              "      const progress = document.createElement('progress');\n",
              "      progress.max = size;\n",
              "      div.appendChild(progress);\n",
              "      document.body.appendChild(div);\n",
              "\n",
              "      const buffers = [];\n",
              "      let downloaded = 0;\n",
              "\n",
              "      const channel = await google.colab.kernel.comms.open(id);\n",
              "      // Send a message to notify the kernel that we're ready.\n",
              "      channel.send({})\n",
              "\n",
              "      for await (const message of channel.messages) {\n",
              "        // Send a message to notify the kernel that we're ready.\n",
              "        channel.send({})\n",
              "        if (message.buffers) {\n",
              "          for (const buffer of message.buffers) {\n",
              "            buffers.push(buffer);\n",
              "            downloaded += buffer.byteLength;\n",
              "            progress.value = downloaded;\n",
              "          }\n",
              "        }\n",
              "      }\n",
              "      const blob = new Blob(buffers, {type: 'application/binary'});\n",
              "      const a = document.createElement('a');\n",
              "      a.href = window.URL.createObjectURL(blob);\n",
              "      a.download = filename;\n",
              "      div.appendChild(a);\n",
              "      a.click();\n",
              "      div.remove();\n",
              "    }\n",
              "  "
            ],
            "text/plain": [
              "<IPython.core.display.Javascript object>"
            ]
          },
          "metadata": {
            "tags": []
          }
        },
        {
          "output_type": "display_data",
          "data": {
            "application/javascript": [
              "download(\"download_6a5b2c2f-c5a9-4fbc-84da-f3c86066cf25\", \"vgg16.pth\", 395489978)"
            ],
            "text/plain": [
              "<IPython.core.display.Javascript object>"
            ]
          },
          "metadata": {
            "tags": []
          }
        }
      ]
    },
    {
      "cell_type": "markdown",
      "metadata": {
        "id": "rzmERPwd4xyN"
      },
      "source": [
        "### Testing the model"
      ]
    },
    {
      "cell_type": "code",
      "metadata": {
        "colab": {
          "base_uri": "https://localhost:8080/"
        },
        "id": "Hte3qI1lpc57",
        "outputId": "6e1af25d-db0f-4e27-90c7-c7ae6f454b70"
      },
      "source": [
        "test_loss = 0\n",
        "acc = 0\n",
        "model.eval()\n",
        "start = time.time()\n",
        "with torch.no_grad():\n",
        "  for inputs, labels in test_loader:\n",
        "    inputs, labels = inputs.to(device), labels.to(device)\n",
        "    logps = model.forward(inputs)\n",
        "    batch_loss = criterion(logps, labels)\n",
        "    test_loss += batch_loss.item()\n",
        "                    \n",
        "    ps = torch.exp(logps)\n",
        "    top_p, top_class = ps.topk(1, dim=1)\n",
        "    equals = top_class == labels.view(*top_class.shape)\n",
        "    acc += torch.mean(equals.type(torch.FloatTensor)).item()\n",
        "per_image = (time.time()-start)/len(test_loader)                   \n",
        "print(f\"Test loss: {test_loss/len(test_loader):.4f}.. \"\n",
        "      f\"Test accuracy: {acc/len(test_loader):.4f}\")\n",
        "\n",
        "print(f\"Time per frame: {per_image}\")"
      ],
      "execution_count": null,
      "outputs": [
        {
          "output_type": "stream",
          "text": [
            "Test loss: 0.8480.. Test accuracy: 0.7701\n",
            "Time per frame: 0.1158690367426191\n"
          ],
          "name": "stdout"
        }
      ]
    },
    {
      "cell_type": "markdown",
      "metadata": {
        "id": "OJ-AWGbu42oj"
      },
      "source": [
        "## By Finetuning"
      ]
    },
    {
      "cell_type": "code",
      "metadata": {
        "id": "3RpUPkaB46L4"
      },
      "source": [
        "model = vgg_vd_face_fer_dag(weights_path='/content/drive/MyDrive/models/vgg_vd_face_fer_dag.pth')\n",
        "model.fc8 = nn.Linear(in_features=4096, out_features=4, bias=True)\n",
        "model = model.to(device)"
      ],
      "execution_count": null,
      "outputs": []
    },
    {
      "cell_type": "markdown",
      "metadata": {
        "id": "wNOSBd6-5C0b"
      },
      "source": [
        "### Training "
      ]
    },
    {
      "cell_type": "code",
      "metadata": {
        "id": "yDV9btYV5SgE"
      },
      "source": [
        "criterion = nn.CrossEntropyLoss()\n",
        "optimizer = optim.SGD(model.parameters(), lr=0.0001, momentum=0.9)\n",
        "scheduler = optim.lr_scheduler.StepLR(optimizer, step_size=21, gamma=0.1)"
      ],
      "execution_count": null,
      "outputs": []
    },
    {
      "cell_type": "code",
      "metadata": {
        "id": "yYguka5e5TTk",
        "colab": {
          "base_uri": "https://localhost:8080/"
        },
        "outputId": "ee4602e6-b27b-437d-d4af-f2f16b2709ce"
      },
      "source": [
        "writer = SummaryWriter()\n",
        "writer.iteration, writer.interval = 0, 10\n",
        "\n",
        "metrics = {\n",
        "    'fps': BatchTimer(),\n",
        "    'acc': accuracy\n",
        "}\n",
        "\n",
        "print('\\n\\nInitial')\n",
        "print('-' * 10)\n",
        "model.eval()\n",
        "best_loss, met = pass_epoch(\n",
        "    model, criterion, val_loader,\n",
        "    batch_metrics=metrics, show_running=True, device=device,\n",
        "    writer=writer\n",
        ")\n",
        "best_acc = met['acc']\n",
        "best_weights = copy.deepcopy(model.state_dict())\n",
        "epochs = 20\n",
        "for epoch in range(epochs):\n",
        "    print('\\nEpoch {}/{}'.format(epoch + 1, epochs))\n",
        "    print('-' * 10)\n",
        "\n",
        "    model.train()\n",
        "    pass_epoch(\n",
        "        model, criterion, train_loader, optimizer, scheduler,\n",
        "        batch_metrics=metrics, show_running=True, device=device,\n",
        "        writer=writer\n",
        "    )\n",
        "\n",
        "    model.eval()\n",
        "    loss, mets = pass_epoch(\n",
        "        model, criterion, val_loader,\n",
        "        batch_metrics=metrics, show_running=True, device=device,\n",
        "        writer=writer\n",
        "    )\n",
        "    if mets['acc'] > best_acc:\n",
        "        best_acc = mets['acc']\n",
        "        best_weights = copy.deepcopy(model.state_dict())\n",
        "    if loss < best_loss:\n",
        "        best_loss = loss\n",
        "\n",
        "\n",
        "writer.close()\n",
        "model.load_state_dict(best_weights)\n",
        "print(\"best validation loss: \", best_loss)\n",
        "print(\"best validation accuracy: \", best_acc)"
      ],
      "execution_count": null,
      "outputs": [
        {
          "output_type": "stream",
          "text": [
            "\n",
            "\n",
            "Initial\n",
            "----------\n",
            "Valid |    32/32   | loss:    1.3863 | fps:  208.7859 | acc:    0.2563   \n",
            "\n",
            "Epoch 1/20\n",
            "----------\n",
            "Train |   313/313  | loss:    0.6482 | fps:   38.0501 | acc:    0.7456   \n",
            "Valid |    32/32   | loss:    0.5381 | fps:  203.1018 | acc:    0.7998   \n",
            "\n",
            "Epoch 2/20\n",
            "----------\n",
            "Train |   313/313  | loss:    0.3186 | fps:   38.1022 | acc:    0.9018   \n",
            "Valid |    32/32   | loss:    0.5084 | fps:  208.4036 | acc:    0.8086   \n",
            "\n",
            "Epoch 3/20\n",
            "----------\n",
            "Train |   313/313  | loss:    0.1979 | fps:   38.1935 | acc:    0.9538   \n",
            "Valid |    32/32   | loss:    0.5037 | fps:  207.9516 | acc:    0.8145   \n",
            "\n",
            "Epoch 4/20\n",
            "----------\n",
            "Train |   313/313  | loss:    0.1277 | fps:   38.1409 | acc:    0.9791   \n",
            "Valid |    32/32   | loss:    0.5078 | fps:  206.3227 | acc:    0.8159   \n",
            "\n",
            "Epoch 5/20\n",
            "----------\n",
            "Train |   313/313  | loss:    0.0853 | fps:   38.0884 | acc:    0.9914   \n",
            "Valid |    32/32   | loss:    0.5152 | fps:  209.8590 | acc:    0.8169   \n",
            "\n",
            "Epoch 6/20\n",
            "----------\n",
            "Train |   313/313  | loss:    0.0596 | fps:   38.2329 | acc:    0.9969   \n",
            "Valid |    32/32   | loss:    0.5241 | fps:  207.8361 | acc:    0.8179   \n",
            "\n",
            "Epoch 7/20\n",
            "----------\n",
            "Train |   313/313  | loss:    0.0437 | fps:   38.1665 | acc:    0.9986   \n",
            "Valid |    32/32   | loss:    0.5332 | fps:  205.1349 | acc:    0.8198   \n",
            "\n",
            "Epoch 8/20\n",
            "----------\n",
            "Train |   313/313  | loss:    0.0335 | fps:   38.1146 | acc:    0.9996   \n",
            "Valid |    32/32   | loss:    0.5421 | fps:  202.5599 | acc:    0.8198   \n",
            "\n",
            "Epoch 9/20\n",
            "----------\n",
            "Train |   313/313  | loss:    0.0266 | fps:   38.1884 | acc:    0.9997   \n",
            "Valid |    32/32   | loss:    0.5506 | fps:  207.1196 | acc:    0.8213   \n",
            "\n",
            "Epoch 10/20\n",
            "----------\n",
            "Train |   313/313  | loss:    0.0218 | fps:   38.1087 | acc:    0.9998   \n",
            "Valid |    32/32   | loss:    0.5586 | fps:  203.3585 | acc:    0.8213   \n",
            "\n",
            "Epoch 11/20\n",
            "----------\n",
            "Train |   313/313  | loss:    0.0183 | fps:   37.9701 | acc:    0.9999   \n",
            "Valid |    32/32   | loss:    0.5658 | fps:  201.5395 | acc:    0.8188   \n",
            "\n",
            "Epoch 12/20\n",
            "----------\n",
            "Train |   313/313  | loss:    0.0156 | fps:   37.9485 | acc:    0.9999   \n",
            "Valid |    32/32   | loss:    0.5725 | fps:  204.1043 | acc:    0.8184   \n",
            "\n",
            "Epoch 13/20\n",
            "----------\n",
            "Train |   313/313  | loss:    0.0135 | fps:   38.1051 | acc:    0.9999   \n",
            "Valid |    32/32   | loss:    0.5789 | fps:  206.5813 | acc:    0.8203   \n",
            "\n",
            "Epoch 14/20\n",
            "----------\n",
            "Train |   313/313  | loss:    0.0119 | fps:   38.0702 | acc:    1.0000   \n",
            "Valid |    32/32   | loss:    0.5848 | fps:  202.3113 | acc:    0.8198   \n",
            "\n",
            "Epoch 15/20\n",
            "----------\n",
            "Train |   313/313  | loss:    0.0105 | fps:   38.0510 | acc:    1.0000   \n",
            "Valid |    32/32   | loss:    0.5905 | fps:  203.8878 | acc:    0.8179   \n",
            "\n",
            "Epoch 16/20\n",
            "----------\n",
            "Train |   313/313  | loss:    0.0094 | fps:   38.1328 | acc:    1.0000   \n",
            "Valid |    32/32   | loss:    0.5960 | fps:  209.5781 | acc:    0.8179   \n",
            "\n",
            "Epoch 17/20\n",
            "----------\n",
            "Train |   313/313  | loss:    0.0085 | fps:   38.2283 | acc:    1.0000   \n",
            "Valid |    32/32   | loss:    0.6011 | fps:  202.0887 | acc:    0.8188   \n",
            "\n",
            "Epoch 18/20\n",
            "----------\n",
            "Train |   313/313  | loss:    0.0077 | fps:   38.0775 | acc:    1.0000   \n",
            "Valid |    32/32   | loss:    0.6061 | fps:  201.0594 | acc:    0.8193   \n",
            "\n",
            "Epoch 19/20\n",
            "----------\n",
            "Train |   313/313  | loss:    0.0071 | fps:   37.9780 | acc:    1.0000   \n",
            "Valid |    32/32   | loss:    0.6108 | fps:  204.1457 | acc:    0.8179   \n",
            "\n",
            "Epoch 20/20\n",
            "----------\n",
            "Train |   313/313  | loss:    0.0065 | fps:   38.1073 | acc:    1.0000   \n",
            "Valid |    32/32   | loss:    0.6153 | fps:  207.1049 | acc:    0.8179   \n",
            "best validation loss:  tensor(0.5037)\n",
            "best validation accuracy:  tensor(0.8213)\n"
          ],
          "name": "stdout"
        }
      ]
    },
    {
      "cell_type": "markdown",
      "metadata": {
        "id": "O5VBHI8v5eex"
      },
      "source": [
        "### Saving the model"
      ]
    },
    {
      "cell_type": "code",
      "metadata": {
        "id": "GgeGdgid5hdY"
      },
      "source": [
        "checkpoint = {'state_dict': model.state_dict()}\n",
        "\n",
        "torch.save(checkpoint, 'vgg16_fin.pth')"
      ],
      "execution_count": null,
      "outputs": []
    },
    {
      "cell_type": "markdown",
      "metadata": {
        "id": "6F5LboNO5iag"
      },
      "source": [
        "### Testing"
      ]
    },
    {
      "cell_type": "code",
      "metadata": {
        "id": "VFeiDo2Giu33"
      },
      "source": [
        "model = vgg_m_face_bn_fer_dag()\n",
        "model.fc8 = nn.Linear(in_features=4096, out_features=4, bias=True)\n",
        "\n",
        "st = torch.load('/content/drive/MyDrive/Models FER2013+/vgg16.pth')\n",
        "model.load_state_dict(st['state_dict'])\n",
        "\n",
        "model = model.to(device)"
      ],
      "execution_count": null,
      "outputs": []
    },
    {
      "cell_type": "code",
      "metadata": {
        "id": "KYGQ3dTd5o0H",
        "colab": {
          "base_uri": "https://localhost:8080/"
        },
        "outputId": "f9d1da6c-5853-433c-ed48-5793f1595d3f"
      },
      "source": [
        "writer = SummaryWriter()\n",
        "writer.iteration, writer.interval = 0, 10\n",
        "\n",
        "metrics = {\n",
        "    'fps': BatchTimer(),\n",
        "    'acc': accuracy\n",
        "}\n",
        "\n",
        "print('\\n\\nInitial')\n",
        "print('-' * 10)\n",
        "model.eval()\n",
        "best_loss, met = pass_epoch(\n",
        "    model, criterion, test_loader,\n",
        "    batch_metrics=metrics, show_running=True, device=device,\n",
        "    writer=writer\n",
        ")\n"
      ],
      "execution_count": null,
      "outputs": [
        {
          "output_type": "stream",
          "text": [
            "\n",
            "\n",
            "Initial\n",
            "----------\n",
            "Valid |    28/28   | loss:    0.6565 | fps:  209.6032 | acc:    0.7844   \n"
          ],
          "name": "stdout"
        }
      ]
    },
    {
      "cell_type": "code",
      "metadata": {
        "colab": {
          "base_uri": "https://localhost:8080/"
        },
        "id": "OzT_ApdEca3O",
        "outputId": "d10b59c8-8e9b-488e-ceb9-ee1a9b8fbdbb"
      },
      "source": [
        "from sklearn import metrics as m\n",
        "\n",
        "model.eval()\n",
        "outputs_all = []\n",
        "labels_all = []\n",
        "outs = []\n",
        "with torch.no_grad():\n",
        "  for inputs, labels in test_loader:\n",
        "    inputs, labels = inputs.to(device), labels.to(device)\n",
        "    logps = model.forward(inputs)\n",
        "    ps = torch.exp(logps)\n",
        "    top_p, top_class = ps.topk(1, dim=1)\n",
        "    labels_all = labels_all + labels.tolist()\n",
        "    outputs_all = outputs_all + top_class.tolist()\n",
        "    outs = outs + logps.tolist()\n",
        "    \n",
        "report = m.classification_report(labels_all,outputs_all)\n",
        "cm = m.confusion_matrix(labels_all,outputs_all)\n",
        "\n",
        "print(report)\n",
        "print(cm)"
      ],
      "execution_count": null,
      "outputs": [
        {
          "output_type": "stream",
          "text": [
            "              precision    recall  f1-score   support\n",
            "\n",
            "           0       0.88      0.86      0.87       441\n",
            "           1       0.82      0.81      0.81       441\n",
            "           2       0.74      0.69      0.72       441\n",
            "           3       0.71      0.78      0.74       441\n",
            "\n",
            "    accuracy                           0.79      1764\n",
            "   macro avg       0.79      0.79      0.79      1764\n",
            "weighted avg       0.79      0.79      0.79      1764\n",
            "\n",
            "[[381  27  10  23]\n",
            " [ 25 358  29  29]\n",
            " [ 13  37 305  86]\n",
            " [ 15  17  66 343]]\n"
          ],
          "name": "stdout"
        }
      ]
    },
    {
      "cell_type": "markdown",
      "metadata": {
        "id": "mAnQi5h8ALlT"
      },
      "source": [
        "# Model Definition"
      ]
    },
    {
      "cell_type": "code",
      "metadata": {
        "id": "UXMpVA6wkjfx"
      },
      "source": [
        "class Vgg_vd_face_fer_dag(nn.Module):\n",
        "\n",
        "    def __init__(self):\n",
        "        super(Vgg_vd_face_fer_dag, self).__init__()\n",
        "        self.meta = {'mean': [129.186279296875, 104.76238250732422, 93.59396362304688],\n",
        "                     'std': [1, 1, 1],\n",
        "                     'imageSize': [224, 224, 3]}\n",
        "        self.conv1_1 = nn.Conv2d(3, 64, kernel_size=[3, 3], stride=(1, 1), padding=(1, 1))\n",
        "        self.relu1_1 = nn.ReLU()\n",
        "        self.conv1_2 = nn.Conv2d(64, 64, kernel_size=[3, 3], stride=(1, 1), padding=(1, 1))\n",
        "        self.relu1_2 = nn.ReLU()\n",
        "        self.pool1 = nn.MaxPool2d(kernel_size=[2, 2], stride=[2, 2], padding=0, dilation=1, ceil_mode=False)\n",
        "        self.conv2_1 = nn.Conv2d(64, 128, kernel_size=[3, 3], stride=(1, 1), padding=(1, 1))\n",
        "        self.relu2_1 = nn.ReLU()\n",
        "        self.conv2_2 = nn.Conv2d(128, 128, kernel_size=[3, 3], stride=(1, 1), padding=(1, 1))\n",
        "        self.relu2_2 = nn.ReLU()\n",
        "        self.pool2 = nn.MaxPool2d(kernel_size=[2, 2], stride=[2, 2], padding=0, dilation=1, ceil_mode=False)\n",
        "        self.conv3_1 = nn.Conv2d(128, 256, kernel_size=[3, 3], stride=(1, 1), padding=(1, 1))\n",
        "        self.relu3_1 = nn.ReLU()\n",
        "        self.conv3_2 = nn.Conv2d(256, 256, kernel_size=[3, 3], stride=(1, 1), padding=(1, 1))\n",
        "        self.relu3_2 = nn.ReLU()\n",
        "        self.conv3_3 = nn.Conv2d(256, 256, kernel_size=[3, 3], stride=(1, 1), padding=(1, 1))\n",
        "        self.relu3_3 = nn.ReLU()\n",
        "        self.pool3 = nn.MaxPool2d(kernel_size=[2, 2], stride=[2, 2], padding=0, dilation=1, ceil_mode=False)\n",
        "        self.conv4_1 = nn.Conv2d(256, 512, kernel_size=[3, 3], stride=(1, 1), padding=(1, 1))\n",
        "        self.relu4_1 = nn.ReLU()\n",
        "        self.conv4_2 = nn.Conv2d(512, 512, kernel_size=[3, 3], stride=(1, 1), padding=(1, 1))\n",
        "        self.relu4_2 = nn.ReLU()\n",
        "        self.conv4_3 = nn.Conv2d(512, 512, kernel_size=[3, 3], stride=(1, 1), padding=(1, 1))\n",
        "        self.relu4_3 = nn.ReLU()\n",
        "        self.pool4 = nn.MaxPool2d(kernel_size=[2, 2], stride=[2, 2], padding=0, dilation=1, ceil_mode=False)\n",
        "        self.conv5_1 = nn.Conv2d(512, 512, kernel_size=[3, 3], stride=(1, 1), padding=(1, 1))\n",
        "        self.relu5_1 = nn.ReLU()\n",
        "        self.conv5_2 = nn.Conv2d(512, 512, kernel_size=[3, 3], stride=(1, 1), padding=(1, 1))\n",
        "        self.relu5_2 = nn.ReLU()\n",
        "        self.conv5_3 = nn.Conv2d(512, 512, kernel_size=[3, 3], stride=(1, 1), padding=(1, 1))\n",
        "        self.relu5_3 = nn.ReLU()\n",
        "        self.pool5 = nn.MaxPool2d(kernel_size=[2, 2], stride=[2, 2], padding=0, dilation=1, ceil_mode=False)\n",
        "        self.fc6 = nn.Conv2d(512, 4096, kernel_size=[7, 7], stride=(1, 1))\n",
        "        self.relu6 = nn.ReLU()\n",
        "        self.fc7 = nn.Linear(in_features=4096, out_features=4096, bias=True)\n",
        "        self.relu7 = nn.ReLU()\n",
        "        self.fc8 = nn.Linear(in_features=4096, out_features=7, bias=True)\n",
        "\n",
        "    def forward(self, data):\n",
        "        x1 = self.conv1_1(data)\n",
        "        x2 = self.relu1_1(x1)\n",
        "        x3 = self.conv1_2(x2)\n",
        "        x4 = self.relu1_2(x3)\n",
        "        x5 = self.pool1(x4)\n",
        "        x6 = self.conv2_1(x5)\n",
        "        x7 = self.relu2_1(x6)\n",
        "        x8 = self.conv2_2(x7)\n",
        "        x9 = self.relu2_2(x8)\n",
        "        x10 = self.pool2(x9)\n",
        "        x11 = self.conv3_1(x10)\n",
        "        x12 = self.relu3_1(x11)\n",
        "        x13 = self.conv3_2(x12)\n",
        "        x14 = self.relu3_2(x13)\n",
        "        x15 = self.conv3_3(x14)\n",
        "        x16 = self.relu3_3(x15)\n",
        "        x17 = self.pool3(x16)\n",
        "        x18 = self.conv4_1(x17)\n",
        "        x19 = self.relu4_1(x18)\n",
        "        x20 = self.conv4_2(x19)\n",
        "        x21 = self.relu4_2(x20)\n",
        "        x22 = self.conv4_3(x21)\n",
        "        x23 = self.relu4_3(x22)\n",
        "        x24 = self.pool4(x23)\n",
        "        x25 = self.conv5_1(x24)\n",
        "        x26 = self.relu5_1(x25)\n",
        "        x27 = self.conv5_2(x26)\n",
        "        x28 = self.relu5_2(x27)\n",
        "        x29 = self.conv5_3(x28)\n",
        "        x30 = self.relu5_3(x29)\n",
        "        x31 = self.pool5(x30)\n",
        "        x32 = self.fc6(x31)\n",
        "        x33_preflatten = self.relu6(x32)\n",
        "        x33 = x33_preflatten.view(x33_preflatten.size(0), -1)\n",
        "        x34 = self.fc7(x33)\n",
        "        x35 = self.relu7(x34)\n",
        "        prediction = self.fc8(x35)\n",
        "        return prediction\n",
        "\n",
        "def vgg_vd_face_fer_dag(weights_path=None, **kwargs):\n",
        "    \"\"\"\n",
        "    load imported model instance\n",
        "\n",
        "    Args:\n",
        "        weights_path (str): If set, loads model weights from the given path\n",
        "    \"\"\"\n",
        "    model = Vgg_vd_face_fer_dag()\n",
        "    if weights_path:\n",
        "        state_dict = torch.load(weights_path)\n",
        "        model.load_state_dict(state_dict)\n",
        "    return model\n"
      ],
      "execution_count": null,
      "outputs": []
    },
    {
      "cell_type": "markdown",
      "metadata": {
        "id": "eh9kJRzMqxcn"
      },
      "source": [
        "# Helper Methods"
      ]
    },
    {
      "cell_type": "code",
      "metadata": {
        "id": "HD2615p7d5ax"
      },
      "source": [
        "class BatchTimer(object):\n",
        "    \"\"\"Batch timing class.\n",
        "    Use this class for tracking training and testing time/rate per batch or per sample.\n",
        "    \n",
        "    Keyword Arguments:\n",
        "        rate {bool} -- Whether to report a rate (batches or samples per second) or a time (seconds\n",
        "            per batch or sample). (default: {True})\n",
        "        per_sample {bool} -- Whether to report times or rates per sample or per batch.\n",
        "            (default: {True})\n",
        "    \"\"\"\n",
        "\n",
        "    def __init__(self, rate=True, per_sample=True):\n",
        "        self.start = time.time()\n",
        "        self.end = None\n",
        "        self.rate = rate\n",
        "        self.per_sample = per_sample\n",
        "\n",
        "    def __call__(self, y_pred, y):\n",
        "        self.end = time.time()\n",
        "        elapsed = self.end - self.start\n",
        "        self.start = self.end\n",
        "        self.end = None\n",
        "\n",
        "        if self.per_sample:\n",
        "            elapsed /= len(y_pred)\n",
        "        if self.rate:\n",
        "            elapsed = 1 / elapsed\n",
        "\n",
        "        return torch.tensor(elapsed)"
      ],
      "execution_count": null,
      "outputs": []
    },
    {
      "cell_type": "code",
      "metadata": {
        "id": "isN6nmhpd4Wv"
      },
      "source": [
        "class Logger(object):\n",
        "\n",
        "    def __init__(self, mode, length, calculate_mean=False):\n",
        "        self.mode = mode\n",
        "        self.length = length\n",
        "        self.calculate_mean = calculate_mean\n",
        "        if self.calculate_mean:\n",
        "            self.fn = lambda x, i: x / (i + 1)\n",
        "        else:\n",
        "            self.fn = lambda x, i: x\n",
        "\n",
        "    def __call__(self, loss, metrics, i):\n",
        "        track_str = '\\r{} | {:5d}/{:<5d}| '.format(self.mode, i + 1, self.length)\n",
        "        loss_str = 'loss: {:9.4f} | '.format(self.fn(loss, i))\n",
        "        metric_str = ' | '.join('{}: {:9.4f}'.format(k, self.fn(v, i)) for k, v in metrics.items())\n",
        "        print(track_str + loss_str + metric_str + '   ', end='')\n",
        "        if i + 1 == self.length:\n",
        "            print('')"
      ],
      "execution_count": null,
      "outputs": []
    },
    {
      "cell_type": "code",
      "metadata": {
        "id": "jIlt8F7LeVcc"
      },
      "source": [
        " def pass_epoch(\n",
        "    model, loss_fn, loader, optimizer=None, scheduler=None,\n",
        "    batch_metrics={'time': BatchTimer()}, show_running=True,\n",
        "    device='cpu', writer=None\n",
        "):   \n",
        "\n",
        "    mode = 'Train' if model.training else 'Valid'\n",
        "    logger = Logger(mode, length=len(loader), calculate_mean=show_running)\n",
        "    loss = 0\n",
        "    metrics = {}\n",
        "\n",
        "\n",
        "    for i_batch, (x, y) in enumerate(loader):\n",
        "        x = x.float().to(device)\n",
        "        y = y.long().to(device)\n",
        "        y_pred = model(x)\n",
        "        loss_batch = loss_fn(y_pred, y)\n",
        "\n",
        "        if model.training:\n",
        "            loss_batch.backward()\n",
        "            optimizer.step()\n",
        "            optimizer.zero_grad()\n",
        "\n",
        "        metrics_batch = {}\n",
        "        for metric_name, metric_fn in batch_metrics.items():\n",
        "            metrics_batch[metric_name] = metric_fn(y_pred, y).detach().cpu()\n",
        "            metrics[metric_name] = metrics.get(metric_name, 0) + metrics_batch[metric_name]\n",
        "            \n",
        "        if writer is not None and model.training:\n",
        "            if writer.iteration % writer.interval == 0:\n",
        "                writer.add_scalars('loss', {mode: loss_batch.detach().cpu()}, writer.iteration)\n",
        "                for metric_name, metric_batch in metrics_batch.items():\n",
        "                    writer.add_scalars(metric_name, {mode: metric_batch}, writer.iteration)\n",
        "            writer.iteration += 1\n",
        "        \n",
        "        loss_batch = loss_batch.detach().cpu()\n",
        "        loss += loss_batch\n",
        "        if show_running:\n",
        "            logger(loss, metrics, i_batch)\n",
        "        else:\n",
        "            logger(loss_batch, metrics_batch, i_batch)\n",
        "    \n",
        "    if model.training and scheduler is not None:\n",
        "        scheduler.step()\n",
        "\n",
        "    loss = loss / (i_batch + 1)\n",
        "    metrics = {k: v / (i_batch + 1) for k, v in metrics.items()}\n",
        "            \n",
        "    if writer is not None and not model.training:\n",
        "        writer.add_scalars('loss', {mode: loss.detach()}, writer.iteration)\n",
        "        for metric_name, metric in metrics.items():\n",
        "            writer.add_scalars(metric_name, {mode: metric})\n",
        "\n",
        "    return loss, metrics"
      ],
      "execution_count": null,
      "outputs": []
    },
    {
      "cell_type": "code",
      "metadata": {
        "id": "sDkGcRrLLuDT"
      },
      "source": [
        "def accuracy(logits, y):\n",
        "    _, preds = torch.max(logits, 1)\n",
        "    return (preds == y).float().mean()"
      ],
      "execution_count": null,
      "outputs": []
    }
  ]
}